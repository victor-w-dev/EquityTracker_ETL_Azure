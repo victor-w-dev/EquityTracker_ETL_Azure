{
 "cells": [
  {
   "cell_type": "markdown",
   "metadata": {
    "application/vnd.databricks.v1+cell": {
     "cellMetadata": {
      "byteLimit": 2048000,
      "rowLimit": 10000
     },
     "inputWidgets": {},
     "nuid": "c48968ef-b3e4-4aeb-9f0e-b729a128b142",
     "showTitle": false,
     "title": ""
    }
   },
   "source": [
    "#####1. Define mount configs using service principal"
   ]
  },
  {
   "cell_type": "code",
   "execution_count": 0,
   "metadata": {
    "application/vnd.databricks.v1+cell": {
     "cellMetadata": {
      "byteLimit": 2048000,
      "rowLimit": 10000
     },
     "inputWidgets": {},
     "nuid": "928bd1f7-449b-41c7-a0e4-5cc71d26fb73",
     "showTitle": false,
     "title": ""
    }
   },
   "outputs": [],
   "source": [
    "# storage_account_name = \"not shown here\"\n",
    "# container_name = \"not shown here\"\n",
    "# mount_point = \"not shown here\"\n",
    "# client_id = \"not shown here\"\n",
    "# tenant_id = \"not shown here\"\n",
    "# client_secret =\"not shown here\""
   ]
  },
  {
   "cell_type": "code",
   "execution_count": 0,
   "metadata": {
    "application/vnd.databricks.v1+cell": {
     "cellMetadata": {
      "byteLimit": 2048000,
      "rowLimit": 10000
     },
     "inputWidgets": {},
     "nuid": "8f2a37be-0bcc-4ef7-abef-fbd6f619a488",
     "showTitle": false,
     "title": ""
    }
   },
   "outputs": [],
   "source": [
    "# configs = {\"fs.azure.account.auth.type\": \"OAuth\",\n",
    "#         \"fs.azure.account.oauth.provider.type\": \"org.apache.hadoop.fs.azurebfs.oauth2.ClientCredsTokenProvider\",\n",
    "#         \"fs.azure.account.oauth2.client.id\": f\"{client_id}\",\n",
    "#         \"fs.azure.account.oauth2.client.secret\": f\"{client_secret}\",\n",
    "#         \"fs.azure.account.oauth2.client.endpoint\": f\"https://login.microsoftonline.com/{tenant_id}/oauth2/token\"}"
   ]
  },
  {
   "cell_type": "markdown",
   "metadata": {
    "application/vnd.databricks.v1+cell": {
     "cellMetadata": {
      "byteLimit": 2048000,
      "rowLimit": 10000
     },
     "inputWidgets": {},
     "nuid": "1d572bfe-759c-447b-88fa-49a68fa76ca8",
     "showTitle": false,
     "title": ""
    }
   },
   "source": [
    "#####2. Mount the container"
   ]
  },
  {
   "cell_type": "code",
   "execution_count": 0,
   "metadata": {
    "application/vnd.databricks.v1+cell": {
     "cellMetadata": {
      "byteLimit": 2048000,
      "rowLimit": 10000
     },
     "inputWidgets": {},
     "nuid": "dd20bffc-a01a-4480-b483-0483cfcea482",
     "showTitle": false,
     "title": ""
    }
   },
   "outputs": [],
   "source": [
    "# dbutils.fs.mount(\n",
    "#   source = f\"abfss://{container_name}@{storage_account_name}.dfs.core.windows.net/\",\n",
    "#   mount_point = f\"/mnt/{mount_point}\",\n",
    "#   extra_configs = configs)"
   ]
  },
  {
   "cell_type": "code",
   "execution_count": 0,
   "metadata": {
    "application/vnd.databricks.v1+cell": {
     "cellMetadata": {
      "byteLimit": 2048000,
      "rowLimit": 10000
     },
     "inputWidgets": {},
     "nuid": "306ff66d-7c6f-46ea-8a33-1e05db655b40",
     "showTitle": false,
     "title": ""
    }
   },
   "outputs": [],
   "source": [
    "# dbutils.fs.refreshMounts()"
   ]
  },
  {
   "cell_type": "markdown",
   "metadata": {
    "application/vnd.databricks.v1+cell": {
     "cellMetadata": {
      "byteLimit": 2048000,
      "rowLimit": 10000
     },
     "inputWidgets": {},
     "nuid": "d37c03e6-c642-4645-a2d2-1b81736c5af0",
     "showTitle": false,
     "title": ""
    }
   },
   "source": [
    "#####3. List contents of the mount point"
   ]
  },
  {
   "cell_type": "code",
   "execution_count": 0,
   "metadata": {
    "application/vnd.databricks.v1+cell": {
     "cellMetadata": {
      "byteLimit": 2048000,
      "rowLimit": 10000
     },
     "inputWidgets": {},
     "nuid": "92ad6af9-ed91-40c4-9337-70a5e8706adf",
     "showTitle": false,
     "title": ""
    }
   },
   "outputs": [],
   "source": [
    "# %fs\n",
    "# ls mnt/cryptotrader/trading_logging/"
   ]
  },
  {
   "cell_type": "markdown",
   "metadata": {
    "application/vnd.databricks.v1+cell": {
     "cellMetadata": {
      "byteLimit": 2048000,
      "rowLimit": 10000
     },
     "inputWidgets": {},
     "nuid": "cb6a4bc7-ed5b-483e-b4bb-05ce8cbb752d",
     "showTitle": false,
     "title": ""
    }
   },
   "source": [
    "#####4. Unmount /mnt/files directory"
   ]
  },
  {
   "cell_type": "code",
   "execution_count": 0,
   "metadata": {
    "application/vnd.databricks.v1+cell": {
     "cellMetadata": {
      "byteLimit": 2048000,
      "rowLimit": 10000
     },
     "inputWidgets": {},
     "nuid": "b7f416ca-ec03-4096-b7e4-bfc68818eb24",
     "showTitle": false,
     "title": ""
    }
   },
   "outputs": [],
   "source": [
    "#%fs\n",
    "#unmount /mnt/files"
   ]
  },
  {
   "cell_type": "code",
   "execution_count": 0,
   "metadata": {
    "application/vnd.databricks.v1+cell": {
     "cellMetadata": {
      "byteLimit": 2048000,
      "rowLimit": 10000
     },
     "inputWidgets": {},
     "nuid": "3191f6d7-afae-4d97-9cb3-706d595f927a",
     "showTitle": false,
     "title": ""
    }
   },
   "outputs": [],
   "source": [
    "#%fs mounts"
   ]
  },
  {
   "cell_type": "markdown",
   "metadata": {
    "application/vnd.databricks.v1+cell": {
     "cellMetadata": {
      "byteLimit": 2048000,
      "rowLimit": 10000
     },
     "inputWidgets": {},
     "nuid": "4939689c-efb8-4af6-a342-4b7eec9b02e2",
     "showTitle": false,
     "title": ""
    }
   },
   "source": [
    "#####5. [Bronze Layer] COPY INTO: Incremental Ingestion in batch daily"
   ]
  },
  {
   "cell_type": "code",
   "execution_count": 0,
   "metadata": {
    "application/vnd.databricks.v1+cell": {
     "cellMetadata": {
      "byteLimit": 2048000,
      "implicitDf": true,
      "rowLimit": 10000
     },
     "inputWidgets": {},
     "nuid": "d9433f52-d572-4fab-9c42-c1c8b7c77bc1",
     "showTitle": false,
     "title": ""
    }
   },
   "outputs": [
    {
     "output_type": "display_data",
     "data": {
      "text/html": [
       "<style scoped>\n",
       "  .table-result-container {\n",
       "    max-height: 300px;\n",
       "    overflow: auto;\n",
       "  }\n",
       "  table, th, td {\n",
       "    border: 1px solid black;\n",
       "    border-collapse: collapse;\n",
       "  }\n",
       "  th, td {\n",
       "    padding: 5px;\n",
       "  }\n",
       "  th {\n",
       "    text-align: left;\n",
       "  }\n",
       "</style><div class='table-result-container'><table class='table-result'><thead style='background-color: white'><tr></tr></thead><tbody></tbody></table></div>"
      ]
     },
     "metadata": {
      "application/vnd.databricks.v1+output": {
       "addedWidgets": {},
       "aggData": [],
       "aggError": "",
       "aggOverflow": false,
       "aggSchema": [],
       "aggSeriesLimitReached": false,
       "aggType": "",
       "arguments": {},
       "columnCustomDisplayInfos": {},
       "data": [],
       "datasetInfos": [],
       "dbfsResultPath": null,
       "isJsonSchema": true,
       "metadata": {
        "dataframeName": null
       },
       "overflow": false,
       "plotOptions": {
        "customPlotOptions": {},
        "displayType": "table",
        "pivotAggregation": null,
        "pivotColumns": null,
        "xColumns": null,
        "yColumns": null
       },
       "removedWidgets": [],
       "schema": [],
       "type": "table"
      }
     },
     "output_type": "display_data"
    }
   ],
   "source": [
    "%sql\n",
    "CREATE TABLE IF NOT EXISTS logging_raw(\n",
    "    logging STRING,\n",
    "    account STRING, \n",
    "    date_end date\n",
    ") USING DELTA;"
   ]
  },
  {
   "cell_type": "code",
   "execution_count": 0,
   "metadata": {
    "application/vnd.databricks.v1+cell": {
     "cellMetadata": {
      "byteLimit": 2048000,
      "implicitDf": true,
      "rowLimit": 10000
     },
     "inputWidgets": {},
     "nuid": "a0d3c4e3-f212-423c-8f69-30c89d6ef26f",
     "showTitle": false,
     "title": ""
    }
   },
   "outputs": [
    {
     "output_type": "display_data",
     "data": {
      "text/html": [
       "<style scoped>\n",
       "  .table-result-container {\n",
       "    max-height: 300px;\n",
       "    overflow: auto;\n",
       "  }\n",
       "  table, th, td {\n",
       "    border: 1px solid black;\n",
       "    border-collapse: collapse;\n",
       "  }\n",
       "  th, td {\n",
       "    padding: 5px;\n",
       "  }\n",
       "  th {\n",
       "    text-align: left;\n",
       "  }\n",
       "</style><div class='table-result-container'><table class='table-result'><thead style='background-color: white'><tr><th>num_affected_rows</th><th>num_inserted_rows</th><th>num_skipped_corrupt_files</th></tr></thead><tbody><tr><td>9579</td><td>9579</td><td>0</td></tr></tbody></table></div>"
      ]
     },
     "metadata": {
      "application/vnd.databricks.v1+output": {
       "addedWidgets": {},
       "aggData": [],
       "aggError": "",
       "aggOverflow": false,
       "aggSchema": [],
       "aggSeriesLimitReached": false,
       "aggType": "",
       "arguments": {},
       "columnCustomDisplayInfos": {},
       "data": [
        [
         9579,
         9579,
         0
        ]
       ],
       "datasetInfos": [],
       "dbfsResultPath": null,
       "isJsonSchema": true,
       "metadata": {
        "dataframeName": "_sqldf",
        "executionCount": 8
       },
       "overflow": false,
       "plotOptions": {
        "customPlotOptions": {},
        "displayType": "table",
        "pivotAggregation": null,
        "pivotColumns": null,
        "xColumns": null,
        "yColumns": null
       },
       "removedWidgets": [],
       "schema": [
        {
         "metadata": "{}",
         "name": "num_affected_rows",
         "type": "\"long\""
        },
        {
         "metadata": "{}",
         "name": "num_inserted_rows",
         "type": "\"long\""
        },
        {
         "metadata": "{}",
         "name": "num_skipped_corrupt_files",
         "type": "\"integer\""
        }
       ],
       "type": "table"
      }
     },
     "output_type": "display_data"
    }
   ],
   "source": [
    "%sql\n",
    "COPY INTO logging_raw\n",
    "FROM (\n",
    "  SELECT value as logging, \n",
    "        regexp_extract(_metadata.file_path, r\"/mainac/([^/]+)/\", 1) as account,\n",
    "        to_date(regexp_extract(_metadata.file_path, r\"/(\\d{8})\\.log$\", 1), 'yyyyMMdd') as date_end\n",
    "  FROM 'dbfs:/mnt/cryptotrader/trading_logging/skinnydew'\n",
    ")\n",
    "FILEFORMAT = TEXT\n",
    "PATTERN = '*/*/*/*.log'\n",
    "COPY_OPTIONS ('mergeSchema' = 'true');"
   ]
  },
  {
   "cell_type": "code",
   "execution_count": 0,
   "metadata": {
    "application/vnd.databricks.v1+cell": {
     "cellMetadata": {
      "byteLimit": 2048000,
      "implicitDf": true,
      "rowLimit": 10000
     },
     "inputWidgets": {},
     "nuid": "cf783b3b-aab0-4bc2-a696-c77517cb413a",
     "showTitle": false,
     "title": ""
    }
   },
   "outputs": [
    {
     "output_type": "display_data",
     "data": {
      "text/html": [
       "<style scoped>\n",
       "  .table-result-container {\n",
       "    max-height: 300px;\n",
       "    overflow: auto;\n",
       "  }\n",
       "  table, th, td {\n",
       "    border: 1px solid black;\n",
       "    border-collapse: collapse;\n",
       "  }\n",
       "  th, td {\n",
       "    padding: 5px;\n",
       "  }\n",
       "  th {\n",
       "    text-align: left;\n",
       "  }\n",
       "</style><div class='table-result-container'><table class='table-result'><thead style='background-color: white'><tr><th>logging</th><th>account</th><th>date_end</th></tr></thead><tbody><tr><td>2024-06-06 23:55:05,800: INFO - Using Bybit</td><td>ML0001</td><td>2024-06-06</td></tr><tr><td>2024-06-07 00:00:22,172: INFO - ------Saved records------</td><td>ML0001</td><td>2024-06-06</td></tr><tr><td>2024-06-06 23:55:05,800: INFO - Sandbox: False</td><td>ML0001</td><td>2024-06-06</td></tr><tr><td>2024-06-06 23:55:08,635: INFO - Account [realtrade][ML0001_prod_azure_vm] begins trading</td><td>ML0001</td><td>2024-06-06</td></tr><tr><td>2024-06-06 23:55:08,635: INFO - Start trading</td><td>ML0001</td><td>2024-06-06</td></tr><tr><td>2024-06-06 23:55:10,482: INFO - Current Leverage: 3.0x</td><td>ML0001</td><td>2024-06-06</td></tr><tr><td>2024-06-06 23:55:10,482: INFO - Get most recent data for RUNE/USDT:USDT</td><td>ML0001</td><td>2024-06-06</td></tr><tr><td>2024-06-07 00:00:01,453: INFO - defining strategy...</td><td>ML0001</td><td>2024-06-06</td></tr><tr><td>2024-06-07 00:00:14,531: INFO - USDT amount: 1342.11683891</td><td>ML0001</td><td>2024-06-06</td></tr><tr><td>2024-06-07 00:00:14,609: INFO - Bid price: 6.017</td><td>ML0001</td><td>2024-06-06</td></tr><tr><td>2024-06-07 00:00:14,609: INFO - Ask price: 6.018</td><td>ML0001</td><td>2024-06-06</td></tr><tr><td>2024-06-07 00:00:14,609: INFO - units adjusted to: 223.0</td><td>ML0001</td><td>2024-06-06</td></tr><tr><td>2024-06-07 00:00:14,609: INFO - ------Begin execute trades------</td><td>ML0001</td><td>2024-06-06</td></tr><tr><td>2024-06-07 00:00:15,109: INFO - lag1_close: 6.021, stop_price: 6.56289</td><td>ML0001</td><td>2024-06-06</td></tr><tr><td>2024-06-07 00:00:15,750: INFO - Current position: -207.3 units</td><td>ML0001</td><td>2024-06-06</td></tr><tr><td>2024-06-07 00:00:15,750: INFO - Current holding -207.3 units, change -15.7 units theoretically to: -223.0 units</td><td>ML0001</td><td>2024-06-06</td></tr><tr><td>2024-06-07 00:00:16,594: INFO - Cancel stop loss order</td><td>ML0001</td><td>2024-06-06</td></tr><tr><td>2024-06-07 00:00:16,594: INFO - NO TRADES</td><td>ML0001</td><td>2024-06-06</td></tr><tr><td>2024-06-07 00:00:18,703: INFO - Create conditional stop loss order - side: buy, amount: 207.3</td><td>ML0001</td><td>2024-06-06</td></tr><tr><td>2024-06-07 00:00:18,703: INFO - ------Ended execute trades------</td><td>ML0001</td><td>2024-06-06</td></tr></tbody></table></div>"
      ]
     },
     "metadata": {
      "application/vnd.databricks.v1+output": {
       "addedWidgets": {},
       "aggData": [],
       "aggError": "",
       "aggOverflow": false,
       "aggSchema": [],
       "aggSeriesLimitReached": false,
       "aggType": "",
       "arguments": {},
       "columnCustomDisplayInfos": {},
       "data": [
        [
         "2024-06-06 23:55:05,800: INFO - Using Bybit",
         "ML0001",
         "2024-06-06"
        ],
        [
         "2024-06-07 00:00:22,172: INFO - ------Saved records------",
         "ML0001",
         "2024-06-06"
        ],
        [
         "2024-06-06 23:55:05,800: INFO - Sandbox: False",
         "ML0001",
         "2024-06-06"
        ],
        [
         "2024-06-06 23:55:08,635: INFO - Account [realtrade][ML0001_prod_azure_vm] begins trading",
         "ML0001",
         "2024-06-06"
        ],
        [
         "2024-06-06 23:55:08,635: INFO - Start trading",
         "ML0001",
         "2024-06-06"
        ],
        [
         "2024-06-06 23:55:10,482: INFO - Current Leverage: 3.0x",
         "ML0001",
         "2024-06-06"
        ],
        [
         "2024-06-06 23:55:10,482: INFO - Get most recent data for RUNE/USDT:USDT",
         "ML0001",
         "2024-06-06"
        ],
        [
         "2024-06-07 00:00:01,453: INFO - defining strategy...",
         "ML0001",
         "2024-06-06"
        ],
        [
         "2024-06-07 00:00:14,531: INFO - USDT amount: 1342.11683891",
         "ML0001",
         "2024-06-06"
        ],
        [
         "2024-06-07 00:00:14,609: INFO - Bid price: 6.017",
         "ML0001",
         "2024-06-06"
        ],
        [
         "2024-06-07 00:00:14,609: INFO - Ask price: 6.018",
         "ML0001",
         "2024-06-06"
        ],
        [
         "2024-06-07 00:00:14,609: INFO - units adjusted to: 223.0",
         "ML0001",
         "2024-06-06"
        ],
        [
         "2024-06-07 00:00:14,609: INFO - ------Begin execute trades------",
         "ML0001",
         "2024-06-06"
        ],
        [
         "2024-06-07 00:00:15,109: INFO - lag1_close: 6.021, stop_price: 6.56289",
         "ML0001",
         "2024-06-06"
        ],
        [
         "2024-06-07 00:00:15,750: INFO - Current position: -207.3 units",
         "ML0001",
         "2024-06-06"
        ],
        [
         "2024-06-07 00:00:15,750: INFO - Current holding -207.3 units, change -15.7 units theoretically to: -223.0 units",
         "ML0001",
         "2024-06-06"
        ],
        [
         "2024-06-07 00:00:16,594: INFO - Cancel stop loss order",
         "ML0001",
         "2024-06-06"
        ],
        [
         "2024-06-07 00:00:16,594: INFO - NO TRADES",
         "ML0001",
         "2024-06-06"
        ],
        [
         "2024-06-07 00:00:18,703: INFO - Create conditional stop loss order - side: buy, amount: 207.3",
         "ML0001",
         "2024-06-06"
        ],
        [
         "2024-06-07 00:00:18,703: INFO - ------Ended execute trades------",
         "ML0001",
         "2024-06-06"
        ]
       ],
       "datasetInfos": [],
       "dbfsResultPath": null,
       "isJsonSchema": true,
       "metadata": {
        "dataframeName": "_sqldf",
        "executionCount": 9
       },
       "overflow": false,
       "plotOptions": {
        "customPlotOptions": {},
        "displayType": "table",
        "pivotAggregation": null,
        "pivotColumns": null,
        "xColumns": null,
        "yColumns": null
       },
       "removedWidgets": [],
       "schema": [
        {
         "metadata": "{}",
         "name": "logging",
         "type": "\"string\""
        },
        {
         "metadata": "{}",
         "name": "account",
         "type": "\"string\""
        },
        {
         "metadata": "{}",
         "name": "date_end",
         "type": "\"date\""
        }
       ],
       "type": "table"
      }
     },
     "output_type": "display_data"
    }
   ],
   "source": [
    "%sql\n",
    "select * from logging_raw \n",
    "order by account, date_end desc\n",
    "LIMIT 20;"
   ]
  },
  {
   "cell_type": "markdown",
   "metadata": {
    "application/vnd.databricks.v1+cell": {
     "cellMetadata": {
      "byteLimit": 2048000,
      "rowLimit": 10000
     },
     "inputWidgets": {},
     "nuid": "e7726cae-c54d-4b51-8412-7f5c707f2620",
     "showTitle": false,
     "title": ""
    }
   },
   "source": [
    "#####6. [Silver Layer] Output first record of each account daily "
   ]
  },
  {
   "cell_type": "code",
   "execution_count": 0,
   "metadata": {
    "application/vnd.databricks.v1+cell": {
     "cellMetadata": {
      "byteLimit": 2048000,
      "implicitDf": true,
      "rowLimit": 10000
     },
     "inputWidgets": {},
     "nuid": "1df60384-72f3-45bd-a1f5-7a20b4ec2043",
     "showTitle": false,
     "title": ""
    }
   },
   "outputs": [
    {
     "output_type": "display_data",
     "data": {
      "text/html": [
       "<style scoped>\n",
       "  .table-result-container {\n",
       "    max-height: 300px;\n",
       "    overflow: auto;\n",
       "  }\n",
       "  table, th, td {\n",
       "    border: 1px solid black;\n",
       "    border-collapse: collapse;\n",
       "  }\n",
       "  th, td {\n",
       "    padding: 5px;\n",
       "  }\n",
       "  th {\n",
       "    text-align: left;\n",
       "  }\n",
       "</style><div class='table-result-container'><table class='table-result'><thead style='background-color: white'><tr><th>num_affected_rows</th><th>num_inserted_rows</th></tr></thead><tbody></tbody></table></div>"
      ]
     },
     "metadata": {
      "application/vnd.databricks.v1+output": {
       "addedWidgets": {},
       "aggData": [],
       "aggError": "",
       "aggOverflow": false,
       "aggSchema": [],
       "aggSeriesLimitReached": false,
       "aggType": "",
       "arguments": {},
       "columnCustomDisplayInfos": {},
       "data": [],
       "datasetInfos": [],
       "dbfsResultPath": null,
       "isJsonSchema": true,
       "metadata": {
        "dataframeName": "_sqldf",
        "executionCount": 26
       },
       "overflow": false,
       "plotOptions": {
        "customPlotOptions": {},
        "displayType": "table",
        "pivotAggregation": null,
        "pivotColumns": null,
        "xColumns": null,
        "yColumns": null
       },
       "removedWidgets": [],
       "schema": [
        {
         "metadata": "{}",
         "name": "num_affected_rows",
         "type": "\"long\""
        },
        {
         "metadata": "{}",
         "name": "num_inserted_rows",
         "type": "\"long\""
        }
       ],
       "type": "table"
      }
     },
     "output_type": "display_data"
    }
   ],
   "source": [
    "%sql\n",
    "CREATE OR REPLACE TABLE account_records\n",
    "USING delta AS\n",
    "WITH extracted_logging AS (\n",
    "    SELECT \n",
    "        account,\n",
    "        date_end,\n",
    "        to_timestamp(regexp_extract(logging, r\"^([^,]+)\", 1), \"yyyy-MM-dd HH:mm:ss\") as update_time,\n",
    "        regexp_extract(logging, r'INFO - USDT amount: ([0-9]+\\.[0-9]+)', 1) AS usdt_amount\n",
    "    FROM logging_raw\n",
    "    WHERE logging LIKE '%INFO - USDT amount:%'\n",
    "),\n",
    "ranked_logging AS (\n",
    "    SELECT \n",
    "        account,\n",
    "        date_end,\n",
    "        update_time,\n",
    "        usdt_amount,\n",
    "        ROW_NUMBER() OVER (PARTITION BY account, date_end ORDER BY update_time) AS row_num\n",
    "    FROM extracted_logging\n",
    ")\n",
    "SELECT \n",
    "    date_end,\n",
    "    account,\n",
    "    update_time,\n",
    "    usdt_amount,\n",
    "    row_num\n",
    "FROM ranked_logging\n",
    "WHERE row_num = 1\n",
    "ORDER BY date_end, account, update_time"
   ]
  },
  {
   "cell_type": "markdown",
   "metadata": {
    "application/vnd.databricks.v1+cell": {
     "cellMetadata": {
      "byteLimit": 2048000,
      "rowLimit": 10000
     },
     "inputWidgets": {},
     "nuid": "3927ca0d-ddc8-43a0-b830-345b53f02d8e",
     "showTitle": false,
     "title": ""
    }
   },
   "source": []
  },
  {
   "cell_type": "code",
   "execution_count": 0,
   "metadata": {
    "application/vnd.databricks.v1+cell": {
     "cellMetadata": {
      "byteLimit": 2048000,
      "rowLimit": 10000
     },
     "inputWidgets": {},
     "nuid": "95f227e3-861f-4a58-9ac5-1a6e94b897ac",
     "showTitle": false,
     "title": ""
    }
   },
   "outputs": [],
   "source": [
    "# Read the Delta table into a DataFrame\n",
    "account_records_df = spark.read.table(\"account_records\")"
   ]
  },
  {
   "cell_type": "code",
   "execution_count": 0,
   "metadata": {
    "application/vnd.databricks.v1+cell": {
     "cellMetadata": {
      "byteLimit": 2048000,
      "rowLimit": 10000
     },
     "inputWidgets": {},
     "nuid": "6f1c63e2-14dc-4d83-96c7-cb82640f4f92",
     "showTitle": false,
     "title": ""
    }
   },
   "outputs": [
    {
     "output_type": "display_data",
     "data": {
      "text/html": [
       "<style scoped>\n",
       "  .table-result-container {\n",
       "    max-height: 300px;\n",
       "    overflow: auto;\n",
       "  }\n",
       "  table, th, td {\n",
       "    border: 1px solid black;\n",
       "    border-collapse: collapse;\n",
       "  }\n",
       "  th, td {\n",
       "    padding: 5px;\n",
       "  }\n",
       "  th {\n",
       "    text-align: left;\n",
       "  }\n",
       "</style><div class='table-result-container'><table class='table-result'><thead style='background-color: white'><tr><th>date_end</th><th>account</th><th>update_time</th><th>usdt_amount</th><th>row_num</th></tr></thead><tbody><tr><td>2024-05-03</td><td>ML0001</td><td>2024-05-04T00:00:00Z</td><td>3999.93716499</td><td>1</td></tr><tr><td>2024-05-04</td><td>ML0001</td><td>2024-05-05T00:00:00Z</td><td>3971.69011612</td><td>1</td></tr><tr><td>2024-05-05</td><td>ML0001</td><td>2024-05-06T00:00:01Z</td><td>4009.15950378</td><td>1</td></tr><tr><td>2024-05-05</td><td>ML0002</td><td>2024-05-05T12:30:41Z</td><td>3999.92099743</td><td>1</td></tr><tr><td>2024-05-05</td><td>ML0003</td><td>2024-05-05T14:36:01Z</td><td>100.0</td><td>1</td></tr><tr><td>2024-05-06</td><td>ML0001</td><td>2024-05-07T00:00:01Z</td><td>3898.98112158</td><td>1</td></tr><tr><td>2024-05-06</td><td>ML0002</td><td>2024-05-07T00:00:01Z</td><td>4038.57959257</td><td>1</td></tr><tr><td>2024-05-06</td><td>ML0003</td><td>2024-05-07T00:00:01Z</td><td>4026.148304</td><td>1</td></tr><tr><td>2024-05-06</td><td>ML0004</td><td>2024-05-06T13:11:01Z</td><td>1272.9092</td><td>1</td></tr><tr><td>2024-05-07</td><td>ML0001</td><td>2024-05-08T00:00:00Z</td><td>3958.14142712</td><td>1</td></tr><tr><td>2024-05-07</td><td>ML0002</td><td>2024-05-08T00:00:01Z</td><td>3896.33282792</td><td>1</td></tr><tr><td>2024-05-07</td><td>ML0003</td><td>2024-05-08T00:00:01Z</td><td>3922.78046537</td><td>1</td></tr><tr><td>2024-05-07</td><td>ML0004</td><td>2024-05-08T00:00:01Z</td><td>1300.1295969</td><td>1</td></tr><tr><td>2024-05-08</td><td>ML0001</td><td>2024-05-09T00:00:01Z</td><td>3638.02986578</td><td>1</td></tr><tr><td>2024-05-08</td><td>ML0002</td><td>2024-05-09T00:00:00Z</td><td>4005.91548042</td><td>1</td></tr><tr><td>2024-05-08</td><td>ML0003</td><td>2024-05-09T00:00:01Z</td><td>4022.84405033</td><td>1</td></tr><tr><td>2024-05-08</td><td>ML0004</td><td>2024-05-09T00:00:01Z</td><td>1321.68321383</td><td>1</td></tr><tr><td>2024-05-09</td><td>ML0001</td><td>2024-05-10T00:00:00Z</td><td>1500.00005411</td><td>1</td></tr><tr><td>2024-05-09</td><td>ML0002</td><td>2024-05-10T00:00:01Z</td><td>3873.80826381</td><td>1</td></tr><tr><td>2024-05-09</td><td>ML0003</td><td>2024-05-10T00:00:01Z</td><td>4088.94753034</td><td>1</td></tr><tr><td>2024-05-09</td><td>ML0004</td><td>2024-05-10T00:00:01Z</td><td>3136.65086414</td><td>1</td></tr><tr><td>2024-05-10</td><td>ML0001</td><td>2024-05-11T00:00:00Z</td><td>1414.31595301</td><td>1</td></tr><tr><td>2024-05-10</td><td>ML0002</td><td>2024-05-11T00:00:01Z</td><td>3708.66822244</td><td>1</td></tr><tr><td>2024-05-10</td><td>ML0003</td><td>2024-05-11T00:00:01Z</td><td>4171.77948345</td><td>1</td></tr><tr><td>2024-05-10</td><td>ML0004</td><td>2024-05-11T00:00:00Z</td><td>3033.79865953</td><td>1</td></tr><tr><td>2024-05-11</td><td>ML0001</td><td>2024-05-12T00:00:01Z</td><td>1441.77724811</td><td>1</td></tr><tr><td>2024-05-11</td><td>ML0002</td><td>2024-05-12T00:00:00Z</td><td>3617.21361293</td><td>1</td></tr><tr><td>2024-05-11</td><td>ML0003</td><td>2024-05-12T00:00:01Z</td><td>4224.28725026</td><td>1</td></tr><tr><td>2024-05-11</td><td>ML0004</td><td>2024-05-12T00:00:00Z</td><td>3050.80927273</td><td>1</td></tr><tr><td>2024-05-12</td><td>ML0001</td><td>2024-05-13T00:00:01Z</td><td>1375.29964204</td><td>1</td></tr><tr><td>2024-05-12</td><td>ML0002</td><td>2024-05-13T00:00:02Z</td><td>3604.23516625</td><td>1</td></tr><tr><td>2024-05-12</td><td>ML0003</td><td>2024-05-13T00:00:01Z</td><td>4247.54533666</td><td>1</td></tr><tr><td>2024-05-12</td><td>ML0004</td><td>2024-05-13T00:00:02Z</td><td>3026.65852965</td><td>1</td></tr><tr><td>2024-05-13</td><td>ML0001</td><td>2024-05-14T00:00:01Z</td><td>1445.94851747</td><td>1</td></tr><tr><td>2024-05-13</td><td>ML0002</td><td>2024-05-14T00:00:00Z</td><td>3606.91063682</td><td>1</td></tr><tr><td>2024-05-13</td><td>ML0003</td><td>2024-05-14T00:00:01Z</td><td>4223.89245952</td><td>1</td></tr><tr><td>2024-05-13</td><td>ML0004</td><td>2024-05-14T00:00:00Z</td><td>2993.73180401</td><td>1</td></tr><tr><td>2024-05-14</td><td>ML0001</td><td>2024-05-15T00:00:00Z</td><td>1374.79632033</td><td>1</td></tr><tr><td>2024-05-14</td><td>ML0002</td><td>2024-05-15T00:00:00Z</td><td>3689.84251412</td><td>1</td></tr><tr><td>2024-05-14</td><td>ML0003</td><td>2024-05-15T00:00:01Z</td><td>4003.21789205</td><td>1</td></tr><tr><td>2024-05-14</td><td>ML0004</td><td>2024-05-15T00:00:01Z</td><td>3051.89335177</td><td>1</td></tr><tr><td>2024-05-15</td><td>ML0001</td><td>2024-05-16T00:00:00Z</td><td>1556.23976121</td><td>1</td></tr><tr><td>2024-05-15</td><td>ML0002</td><td>2024-05-16T00:00:00Z</td><td>3932.09385234</td><td>1</td></tr><tr><td>2024-05-15</td><td>ML0003</td><td>2024-05-16T00:00:01Z</td><td>4151.02904306</td><td>1</td></tr><tr><td>2024-05-15</td><td>ML0004</td><td>2024-05-16T00:00:01Z</td><td>3217.27346786</td><td>1</td></tr><tr><td>2024-05-16</td><td>ML0001</td><td>2024-05-17T00:00:01Z</td><td>1598.37407357</td><td>1</td></tr><tr><td>2024-05-16</td><td>ML0002</td><td>2024-05-17T00:00:00Z</td><td>3853.26795998</td><td>1</td></tr><tr><td>2024-05-16</td><td>ML0003</td><td>2024-05-17T00:00:01Z</td><td>4257.89360708</td><td>1</td></tr><tr><td>2024-05-16</td><td>ML0004</td><td>2024-05-17T00:00:01Z</td><td>3255.3435767</td><td>1</td></tr><tr><td>2024-05-17</td><td>ML0001</td><td>2024-05-18T00:00:00Z</td><td>1696.30000461</td><td>1</td></tr><tr><td>2024-05-17</td><td>ML0002</td><td>2024-05-18T00:00:00Z</td><td>4071.52067623</td><td>1</td></tr><tr><td>2024-05-17</td><td>ML0003</td><td>2024-05-18T00:00:01Z</td><td>4368.20441473</td><td>1</td></tr><tr><td>2024-05-17</td><td>ML0004</td><td>2024-05-18T00:00:01Z</td><td>3344.5783877</td><td>1</td></tr><tr><td>2024-05-18</td><td>ML0001</td><td>2024-05-19T00:00:00Z</td><td>1700.27526793</td><td>1</td></tr><tr><td>2024-05-18</td><td>ML0002</td><td>2024-05-19T00:00:00Z</td><td>4069.06182529</td><td>1</td></tr><tr><td>2024-05-18</td><td>ML0003</td><td>2024-05-19T00:00:00Z</td><td>4363.77674966</td><td>1</td></tr><tr><td>2024-05-18</td><td>ML0004</td><td>2024-05-19T00:00:01Z</td><td>3323.2251597</td><td>1</td></tr><tr><td>2024-05-19</td><td>ML0001</td><td>2024-05-20T00:00:00Z</td><td>1758.11975926</td><td>1</td></tr><tr><td>2024-05-19</td><td>ML0002</td><td>2024-05-20T00:00:00Z</td><td>3916.69014193</td><td>1</td></tr><tr><td>2024-05-19</td><td>ML0003</td><td>2024-05-20T00:00:01Z</td><td>4306.35032013</td><td>1</td></tr><tr><td>2024-05-19</td><td>ML0004</td><td>2024-05-20T00:00:01Z</td><td>3440.39225179</td><td>1</td></tr><tr><td>2024-05-20</td><td>ML0001</td><td>2024-05-21T00:00:01Z</td><td>1609.50395104</td><td>1</td></tr><tr><td>2024-05-20</td><td>ML0002</td><td>2024-05-21T00:00:00Z</td><td>3559.91688689</td><td>1</td></tr><tr><td>2024-05-20</td><td>ML0003</td><td>2024-05-21T00:00:01Z</td><td>4552.71522897</td><td>1</td></tr><tr><td>2024-05-20</td><td>ML0004</td><td>2024-05-21T00:00:01Z</td><td>3166.41997444</td><td>1</td></tr><tr><td>2024-05-21</td><td>ML0001</td><td>2024-05-22T00:00:01Z</td><td>1461.93689239</td><td>1</td></tr><tr><td>2024-05-21</td><td>ML0002</td><td>2024-05-22T00:00:00Z</td><td>3489.82174285</td><td>1</td></tr><tr><td>2024-05-21</td><td>ML0003</td><td>2024-05-22T00:00:01Z</td><td>4737.6030642</td><td>1</td></tr><tr><td>2024-05-21</td><td>ML0004</td><td>2024-05-22T00:00:01Z</td><td>3254.18878334</td><td>1</td></tr><tr><td>2024-05-22</td><td>ML0001</td><td>2024-05-23T00:00:01Z</td><td>1396.77307342</td><td>1</td></tr><tr><td>2024-05-22</td><td>ML0002</td><td>2024-05-23T00:00:00Z</td><td>3394.65599366</td><td>1</td></tr><tr><td>2024-05-22</td><td>ML0003</td><td>2024-05-23T00:00:01Z</td><td>4698.37331799</td><td>1</td></tr><tr><td>2024-05-22</td><td>ML0004</td><td>2024-05-23T00:00:01Z</td><td>3279.20053059</td><td>1</td></tr><tr><td>2024-05-23</td><td>ML0001</td><td>2024-05-24T00:00:00Z</td><td>1270.72886351</td><td>1</td></tr><tr><td>2024-05-23</td><td>ML0002</td><td>2024-05-24T00:00:00Z</td><td>3544.76266895</td><td>1</td></tr><tr><td>2024-05-23</td><td>ML0003</td><td>2024-05-24T00:00:01Z</td><td>4305.32979318</td><td>1</td></tr><tr><td>2024-05-23</td><td>ML0004</td><td>2024-05-24T00:00:01Z</td><td>3364.41228443</td><td>1</td></tr><tr><td>2024-05-24</td><td>ML0001</td><td>2024-05-25T00:00:00Z</td><td>1318.68457202</td><td>1</td></tr><tr><td>2024-05-24</td><td>ML0002</td><td>2024-05-25T00:00:00Z</td><td>3488.24683767</td><td>1</td></tr><tr><td>2024-05-24</td><td>ML0003</td><td>2024-05-25T00:00:01Z</td><td>4309.20407445</td><td>1</td></tr><tr><td>2024-05-24</td><td>ML0004</td><td>2024-05-25T00:00:01Z</td><td>3451.35530515</td><td>1</td></tr><tr><td>2024-05-25</td><td>ML0001</td><td>2024-05-26T00:00:00Z</td><td>1341.66084823</td><td>1</td></tr><tr><td>2024-05-25</td><td>ML0002</td><td>2024-05-26T00:00:00Z</td><td>3507.07667001</td><td>1</td></tr><tr><td>2024-05-25</td><td>ML0003</td><td>2024-05-26T00:00:01Z</td><td>4328.69146323</td><td>1</td></tr><tr><td>2024-05-25</td><td>ML0004</td><td>2024-05-26T00:00:01Z</td><td>3426.56175697</td><td>1</td></tr><tr><td>2024-05-26</td><td>ML0001</td><td>2024-05-27T00:00:01Z</td><td>1349.55554818</td><td>1</td></tr><tr><td>2024-05-26</td><td>ML0002</td><td>2024-05-27T00:00:01Z</td><td>3539.18870978</td><td>1</td></tr><tr><td>2024-05-26</td><td>ML0003</td><td>2024-05-27T00:00:01Z</td><td>4340.28486674</td><td>1</td></tr><tr><td>2024-05-26</td><td>ML0004</td><td>2024-05-27T00:00:01Z</td><td>3357.46124053</td><td>1</td></tr><tr><td>2024-05-27</td><td>ML0001</td><td>2024-05-28T00:00:00Z</td><td>1389.82194857</td><td>1</td></tr><tr><td>2024-05-27</td><td>ML0002</td><td>2024-05-28T00:00:00Z</td><td>3627.22621198</td><td>1</td></tr><tr><td>2024-05-27</td><td>ML0003</td><td>2024-05-28T00:00:01Z</td><td>4370.29806218</td><td>1</td></tr><tr><td>2024-05-27</td><td>ML0004</td><td>2024-05-28T00:00:01Z</td><td>3219.50501639</td><td>1</td></tr><tr><td>2024-05-28</td><td>ML0001</td><td>2024-05-29T00:00:00Z</td><td>1354.50184303</td><td>1</td></tr><tr><td>2024-05-28</td><td>ML0002</td><td>2024-05-29T00:00:00Z</td><td>3524.7639207</td><td>1</td></tr><tr><td>2024-05-28</td><td>ML0003</td><td>2024-05-29T00:00:01Z</td><td>4343.63014458</td><td>1</td></tr><tr><td>2024-05-28</td><td>ML0004</td><td>2024-05-29T00:00:01Z</td><td>3277.72781991</td><td>1</td></tr><tr><td>2024-05-29</td><td>ML0001</td><td>2024-05-30T00:00:00Z</td><td>1331.17990996</td><td>1</td></tr><tr><td>2024-05-29</td><td>ML0002</td><td>2024-05-30T00:00:00Z</td><td>3465.141185</td><td>1</td></tr><tr><td>2024-05-29</td><td>ML0003</td><td>2024-05-30T00:00:01Z</td><td>4275.5660339</td><td>1</td></tr><tr><td>2024-05-29</td><td>ML0004</td><td>2024-05-30T00:00:01Z</td><td>3194.75172409</td><td>1</td></tr><tr><td>2024-05-30</td><td>ML0001</td><td>2024-05-31T00:00:01Z</td><td>1287.26923896</td><td>1</td></tr><tr><td>2024-05-30</td><td>ML0002</td><td>2024-05-31T00:00:00Z</td><td>3419.02087076</td><td>1</td></tr><tr><td>2024-05-30</td><td>ML0003</td><td>2024-05-31T00:00:00Z</td><td>4267.02299738</td><td>1</td></tr><tr><td>2024-05-30</td><td>ML0004</td><td>2024-05-31T00:00:01Z</td><td>3111.93950525</td><td>1</td></tr><tr><td>2024-05-31</td><td>ML0001</td><td>2024-06-01T00:00:01Z</td><td>1222.24356802</td><td>1</td></tr><tr><td>2024-05-31</td><td>ML0002</td><td>2024-06-01T00:00:01Z</td><td>3421.48271036</td><td>1</td></tr><tr><td>2024-05-31</td><td>ML0003</td><td>2024-06-01T00:00:00Z</td><td>4250.02858738</td><td>1</td></tr><tr><td>2024-05-31</td><td>ML0004</td><td>2024-06-01T00:00:01Z</td><td>3100.71857903</td><td>1</td></tr><tr><td>2024-06-01</td><td>ML0001</td><td>2024-06-02T00:00:00Z</td><td>1208.84160624</td><td>1</td></tr><tr><td>2024-06-01</td><td>ML0002</td><td>2024-06-02T00:00:00Z</td><td>3388.80440983</td><td>1</td></tr><tr><td>2024-06-01</td><td>ML0003</td><td>2024-06-02T00:00:01Z</td><td>4339.79000954</td><td>1</td></tr><tr><td>2024-06-01</td><td>ML0004</td><td>2024-06-02T00:00:01Z</td><td>3076.36545105</td><td>1</td></tr><tr><td>2024-06-02</td><td>ML0001</td><td>2024-06-03T00:00:00Z</td><td>1228.05231688</td><td>1</td></tr><tr><td>2024-06-02</td><td>ML0002</td><td>2024-06-03T00:00:00Z</td><td>3423.60333775</td><td>1</td></tr><tr><td>2024-06-02</td><td>ML0003</td><td>2024-06-03T00:00:01Z</td><td>4349.10671854</td><td>1</td></tr><tr><td>2024-06-02</td><td>ML0004</td><td>2024-06-03T00:00:01Z</td><td>3119.26141089</td><td>1</td></tr><tr><td>2024-06-03</td><td>ML0001</td><td>2024-06-04T00:00:00Z</td><td>1242.59131286</td><td>1</td></tr><tr><td>2024-06-03</td><td>ML0002</td><td>2024-06-04T00:00:00Z</td><td>3323.45903246</td><td>1</td></tr><tr><td>2024-06-03</td><td>ML0003</td><td>2024-06-04T00:00:00Z</td><td>4600.30128892</td><td>1</td></tr><tr><td>2024-06-03</td><td>ML0004</td><td>2024-06-04T00:00:01Z</td><td>3181.68417814</td><td>1</td></tr><tr><td>2024-06-04</td><td>ML0001</td><td>2024-06-05T00:00:00Z</td><td>1285.20763503</td><td>1</td></tr><tr><td>2024-06-04</td><td>ML0002</td><td>2024-06-05T00:00:00Z</td><td>3288.00173503</td><td>1</td></tr><tr><td>2024-06-04</td><td>ML0003</td><td>2024-06-05T00:00:01Z</td><td>5239.09674398</td><td>1</td></tr><tr><td>2024-06-04</td><td>ML0004</td><td>2024-06-05T00:00:01Z</td><td>3131.5061422</td><td>1</td></tr><tr><td>2024-06-05</td><td>ML0001</td><td>2024-06-06T00:00:01Z</td><td>1295.55815548</td><td>1</td></tr><tr><td>2024-06-05</td><td>ML0002</td><td>2024-06-06T00:00:00Z</td><td>3290.09957745</td><td>1</td></tr><tr><td>2024-06-05</td><td>ML0003</td><td>2024-06-06T00:00:00Z</td><td>5377.85718994</td><td>1</td></tr><tr><td>2024-06-05</td><td>ML0004</td><td>2024-06-06T00:00:01Z</td><td>3088.95774019</td><td>1</td></tr><tr><td>2024-06-06</td><td>ML0001</td><td>2024-06-07T00:00:14Z</td><td>1342.11683891</td><td>1</td></tr><tr><td>2024-06-06</td><td>ML0002</td><td>2024-06-07T00:00:14Z</td><td>3320.77334715</td><td>1</td></tr><tr><td>2024-06-06</td><td>ML0003</td><td>2024-06-07T00:00:14Z</td><td>5233.52138552</td><td>1</td></tr><tr><td>2024-06-06</td><td>ML0004</td><td>2024-06-07T00:00:14Z</td><td>3086.94524176</td><td>1</td></tr></tbody></table></div>"
      ]
     },
     "metadata": {
      "application/vnd.databricks.v1+output": {
       "addedWidgets": {},
       "aggData": [],
       "aggError": "",
       "aggOverflow": false,
       "aggSchema": [],
       "aggSeriesLimitReached": false,
       "aggType": "",
       "arguments": {},
       "columnCustomDisplayInfos": {},
       "data": [
        [
         "2024-05-03",
         "ML0001",
         "2024-05-04T00:00:00Z",
         "3999.93716499",
         1
        ],
        [
         "2024-05-04",
         "ML0001",
         "2024-05-05T00:00:00Z",
         "3971.69011612",
         1
        ],
        [
         "2024-05-05",
         "ML0001",
         "2024-05-06T00:00:01Z",
         "4009.15950378",
         1
        ],
        [
         "2024-05-05",
         "ML0002",
         "2024-05-05T12:30:41Z",
         "3999.92099743",
         1
        ],
        [
         "2024-05-05",
         "ML0003",
         "2024-05-05T14:36:01Z",
         "100.0",
         1
        ],
        [
         "2024-05-06",
         "ML0001",
         "2024-05-07T00:00:01Z",
         "3898.98112158",
         1
        ],
        [
         "2024-05-06",
         "ML0002",
         "2024-05-07T00:00:01Z",
         "4038.57959257",
         1
        ],
        [
         "2024-05-06",
         "ML0003",
         "2024-05-07T00:00:01Z",
         "4026.148304",
         1
        ],
        [
         "2024-05-06",
         "ML0004",
         "2024-05-06T13:11:01Z",
         "1272.9092",
         1
        ],
        [
         "2024-05-07",
         "ML0001",
         "2024-05-08T00:00:00Z",
         "3958.14142712",
         1
        ],
        [
         "2024-05-07",
         "ML0002",
         "2024-05-08T00:00:01Z",
         "3896.33282792",
         1
        ],
        [
         "2024-05-07",
         "ML0003",
         "2024-05-08T00:00:01Z",
         "3922.78046537",
         1
        ],
        [
         "2024-05-07",
         "ML0004",
         "2024-05-08T00:00:01Z",
         "1300.1295969",
         1
        ],
        [
         "2024-05-08",
         "ML0001",
         "2024-05-09T00:00:01Z",
         "3638.02986578",
         1
        ],
        [
         "2024-05-08",
         "ML0002",
         "2024-05-09T00:00:00Z",
         "4005.91548042",
         1
        ],
        [
         "2024-05-08",
         "ML0003",
         "2024-05-09T00:00:01Z",
         "4022.84405033",
         1
        ],
        [
         "2024-05-08",
         "ML0004",
         "2024-05-09T00:00:01Z",
         "1321.68321383",
         1
        ],
        [
         "2024-05-09",
         "ML0001",
         "2024-05-10T00:00:00Z",
         "1500.00005411",
         1
        ],
        [
         "2024-05-09",
         "ML0002",
         "2024-05-10T00:00:01Z",
         "3873.80826381",
         1
        ],
        [
         "2024-05-09",
         "ML0003",
         "2024-05-10T00:00:01Z",
         "4088.94753034",
         1
        ],
        [
         "2024-05-09",
         "ML0004",
         "2024-05-10T00:00:01Z",
         "3136.65086414",
         1
        ],
        [
         "2024-05-10",
         "ML0001",
         "2024-05-11T00:00:00Z",
         "1414.31595301",
         1
        ],
        [
         "2024-05-10",
         "ML0002",
         "2024-05-11T00:00:01Z",
         "3708.66822244",
         1
        ],
        [
         "2024-05-10",
         "ML0003",
         "2024-05-11T00:00:01Z",
         "4171.77948345",
         1
        ],
        [
         "2024-05-10",
         "ML0004",
         "2024-05-11T00:00:00Z",
         "3033.79865953",
         1
        ],
        [
         "2024-05-11",
         "ML0001",
         "2024-05-12T00:00:01Z",
         "1441.77724811",
         1
        ],
        [
         "2024-05-11",
         "ML0002",
         "2024-05-12T00:00:00Z",
         "3617.21361293",
         1
        ],
        [
         "2024-05-11",
         "ML0003",
         "2024-05-12T00:00:01Z",
         "4224.28725026",
         1
        ],
        [
         "2024-05-11",
         "ML0004",
         "2024-05-12T00:00:00Z",
         "3050.80927273",
         1
        ],
        [
         "2024-05-12",
         "ML0001",
         "2024-05-13T00:00:01Z",
         "1375.29964204",
         1
        ],
        [
         "2024-05-12",
         "ML0002",
         "2024-05-13T00:00:02Z",
         "3604.23516625",
         1
        ],
        [
         "2024-05-12",
         "ML0003",
         "2024-05-13T00:00:01Z",
         "4247.54533666",
         1
        ],
        [
         "2024-05-12",
         "ML0004",
         "2024-05-13T00:00:02Z",
         "3026.65852965",
         1
        ],
        [
         "2024-05-13",
         "ML0001",
         "2024-05-14T00:00:01Z",
         "1445.94851747",
         1
        ],
        [
         "2024-05-13",
         "ML0002",
         "2024-05-14T00:00:00Z",
         "3606.91063682",
         1
        ],
        [
         "2024-05-13",
         "ML0003",
         "2024-05-14T00:00:01Z",
         "4223.89245952",
         1
        ],
        [
         "2024-05-13",
         "ML0004",
         "2024-05-14T00:00:00Z",
         "2993.73180401",
         1
        ],
        [
         "2024-05-14",
         "ML0001",
         "2024-05-15T00:00:00Z",
         "1374.79632033",
         1
        ],
        [
         "2024-05-14",
         "ML0002",
         "2024-05-15T00:00:00Z",
         "3689.84251412",
         1
        ],
        [
         "2024-05-14",
         "ML0003",
         "2024-05-15T00:00:01Z",
         "4003.21789205",
         1
        ],
        [
         "2024-05-14",
         "ML0004",
         "2024-05-15T00:00:01Z",
         "3051.89335177",
         1
        ],
        [
         "2024-05-15",
         "ML0001",
         "2024-05-16T00:00:00Z",
         "1556.23976121",
         1
        ],
        [
         "2024-05-15",
         "ML0002",
         "2024-05-16T00:00:00Z",
         "3932.09385234",
         1
        ],
        [
         "2024-05-15",
         "ML0003",
         "2024-05-16T00:00:01Z",
         "4151.02904306",
         1
        ],
        [
         "2024-05-15",
         "ML0004",
         "2024-05-16T00:00:01Z",
         "3217.27346786",
         1
        ],
        [
         "2024-05-16",
         "ML0001",
         "2024-05-17T00:00:01Z",
         "1598.37407357",
         1
        ],
        [
         "2024-05-16",
         "ML0002",
         "2024-05-17T00:00:00Z",
         "3853.26795998",
         1
        ],
        [
         "2024-05-16",
         "ML0003",
         "2024-05-17T00:00:01Z",
         "4257.89360708",
         1
        ],
        [
         "2024-05-16",
         "ML0004",
         "2024-05-17T00:00:01Z",
         "3255.3435767",
         1
        ],
        [
         "2024-05-17",
         "ML0001",
         "2024-05-18T00:00:00Z",
         "1696.30000461",
         1
        ],
        [
         "2024-05-17",
         "ML0002",
         "2024-05-18T00:00:00Z",
         "4071.52067623",
         1
        ],
        [
         "2024-05-17",
         "ML0003",
         "2024-05-18T00:00:01Z",
         "4368.20441473",
         1
        ],
        [
         "2024-05-17",
         "ML0004",
         "2024-05-18T00:00:01Z",
         "3344.5783877",
         1
        ],
        [
         "2024-05-18",
         "ML0001",
         "2024-05-19T00:00:00Z",
         "1700.27526793",
         1
        ],
        [
         "2024-05-18",
         "ML0002",
         "2024-05-19T00:00:00Z",
         "4069.06182529",
         1
        ],
        [
         "2024-05-18",
         "ML0003",
         "2024-05-19T00:00:00Z",
         "4363.77674966",
         1
        ],
        [
         "2024-05-18",
         "ML0004",
         "2024-05-19T00:00:01Z",
         "3323.2251597",
         1
        ],
        [
         "2024-05-19",
         "ML0001",
         "2024-05-20T00:00:00Z",
         "1758.11975926",
         1
        ],
        [
         "2024-05-19",
         "ML0002",
         "2024-05-20T00:00:00Z",
         "3916.69014193",
         1
        ],
        [
         "2024-05-19",
         "ML0003",
         "2024-05-20T00:00:01Z",
         "4306.35032013",
         1
        ],
        [
         "2024-05-19",
         "ML0004",
         "2024-05-20T00:00:01Z",
         "3440.39225179",
         1
        ],
        [
         "2024-05-20",
         "ML0001",
         "2024-05-21T00:00:01Z",
         "1609.50395104",
         1
        ],
        [
         "2024-05-20",
         "ML0002",
         "2024-05-21T00:00:00Z",
         "3559.91688689",
         1
        ],
        [
         "2024-05-20",
         "ML0003",
         "2024-05-21T00:00:01Z",
         "4552.71522897",
         1
        ],
        [
         "2024-05-20",
         "ML0004",
         "2024-05-21T00:00:01Z",
         "3166.41997444",
         1
        ],
        [
         "2024-05-21",
         "ML0001",
         "2024-05-22T00:00:01Z",
         "1461.93689239",
         1
        ],
        [
         "2024-05-21",
         "ML0002",
         "2024-05-22T00:00:00Z",
         "3489.82174285",
         1
        ],
        [
         "2024-05-21",
         "ML0003",
         "2024-05-22T00:00:01Z",
         "4737.6030642",
         1
        ],
        [
         "2024-05-21",
         "ML0004",
         "2024-05-22T00:00:01Z",
         "3254.18878334",
         1
        ],
        [
         "2024-05-22",
         "ML0001",
         "2024-05-23T00:00:01Z",
         "1396.77307342",
         1
        ],
        [
         "2024-05-22",
         "ML0002",
         "2024-05-23T00:00:00Z",
         "3394.65599366",
         1
        ],
        [
         "2024-05-22",
         "ML0003",
         "2024-05-23T00:00:01Z",
         "4698.37331799",
         1
        ],
        [
         "2024-05-22",
         "ML0004",
         "2024-05-23T00:00:01Z",
         "3279.20053059",
         1
        ],
        [
         "2024-05-23",
         "ML0001",
         "2024-05-24T00:00:00Z",
         "1270.72886351",
         1
        ],
        [
         "2024-05-23",
         "ML0002",
         "2024-05-24T00:00:00Z",
         "3544.76266895",
         1
        ],
        [
         "2024-05-23",
         "ML0003",
         "2024-05-24T00:00:01Z",
         "4305.32979318",
         1
        ],
        [
         "2024-05-23",
         "ML0004",
         "2024-05-24T00:00:01Z",
         "3364.41228443",
         1
        ],
        [
         "2024-05-24",
         "ML0001",
         "2024-05-25T00:00:00Z",
         "1318.68457202",
         1
        ],
        [
         "2024-05-24",
         "ML0002",
         "2024-05-25T00:00:00Z",
         "3488.24683767",
         1
        ],
        [
         "2024-05-24",
         "ML0003",
         "2024-05-25T00:00:01Z",
         "4309.20407445",
         1
        ],
        [
         "2024-05-24",
         "ML0004",
         "2024-05-25T00:00:01Z",
         "3451.35530515",
         1
        ],
        [
         "2024-05-25",
         "ML0001",
         "2024-05-26T00:00:00Z",
         "1341.66084823",
         1
        ],
        [
         "2024-05-25",
         "ML0002",
         "2024-05-26T00:00:00Z",
         "3507.07667001",
         1
        ],
        [
         "2024-05-25",
         "ML0003",
         "2024-05-26T00:00:01Z",
         "4328.69146323",
         1
        ],
        [
         "2024-05-25",
         "ML0004",
         "2024-05-26T00:00:01Z",
         "3426.56175697",
         1
        ],
        [
         "2024-05-26",
         "ML0001",
         "2024-05-27T00:00:01Z",
         "1349.55554818",
         1
        ],
        [
         "2024-05-26",
         "ML0002",
         "2024-05-27T00:00:01Z",
         "3539.18870978",
         1
        ],
        [
         "2024-05-26",
         "ML0003",
         "2024-05-27T00:00:01Z",
         "4340.28486674",
         1
        ],
        [
         "2024-05-26",
         "ML0004",
         "2024-05-27T00:00:01Z",
         "3357.46124053",
         1
        ],
        [
         "2024-05-27",
         "ML0001",
         "2024-05-28T00:00:00Z",
         "1389.82194857",
         1
        ],
        [
         "2024-05-27",
         "ML0002",
         "2024-05-28T00:00:00Z",
         "3627.22621198",
         1
        ],
        [
         "2024-05-27",
         "ML0003",
         "2024-05-28T00:00:01Z",
         "4370.29806218",
         1
        ],
        [
         "2024-05-27",
         "ML0004",
         "2024-05-28T00:00:01Z",
         "3219.50501639",
         1
        ],
        [
         "2024-05-28",
         "ML0001",
         "2024-05-29T00:00:00Z",
         "1354.50184303",
         1
        ],
        [
         "2024-05-28",
         "ML0002",
         "2024-05-29T00:00:00Z",
         "3524.7639207",
         1
        ],
        [
         "2024-05-28",
         "ML0003",
         "2024-05-29T00:00:01Z",
         "4343.63014458",
         1
        ],
        [
         "2024-05-28",
         "ML0004",
         "2024-05-29T00:00:01Z",
         "3277.72781991",
         1
        ],
        [
         "2024-05-29",
         "ML0001",
         "2024-05-30T00:00:00Z",
         "1331.17990996",
         1
        ],
        [
         "2024-05-29",
         "ML0002",
         "2024-05-30T00:00:00Z",
         "3465.141185",
         1
        ],
        [
         "2024-05-29",
         "ML0003",
         "2024-05-30T00:00:01Z",
         "4275.5660339",
         1
        ],
        [
         "2024-05-29",
         "ML0004",
         "2024-05-30T00:00:01Z",
         "3194.75172409",
         1
        ],
        [
         "2024-05-30",
         "ML0001",
         "2024-05-31T00:00:01Z",
         "1287.26923896",
         1
        ],
        [
         "2024-05-30",
         "ML0002",
         "2024-05-31T00:00:00Z",
         "3419.02087076",
         1
        ],
        [
         "2024-05-30",
         "ML0003",
         "2024-05-31T00:00:00Z",
         "4267.02299738",
         1
        ],
        [
         "2024-05-30",
         "ML0004",
         "2024-05-31T00:00:01Z",
         "3111.93950525",
         1
        ],
        [
         "2024-05-31",
         "ML0001",
         "2024-06-01T00:00:01Z",
         "1222.24356802",
         1
        ],
        [
         "2024-05-31",
         "ML0002",
         "2024-06-01T00:00:01Z",
         "3421.48271036",
         1
        ],
        [
         "2024-05-31",
         "ML0003",
         "2024-06-01T00:00:00Z",
         "4250.02858738",
         1
        ],
        [
         "2024-05-31",
         "ML0004",
         "2024-06-01T00:00:01Z",
         "3100.71857903",
         1
        ],
        [
         "2024-06-01",
         "ML0001",
         "2024-06-02T00:00:00Z",
         "1208.84160624",
         1
        ],
        [
         "2024-06-01",
         "ML0002",
         "2024-06-02T00:00:00Z",
         "3388.80440983",
         1
        ],
        [
         "2024-06-01",
         "ML0003",
         "2024-06-02T00:00:01Z",
         "4339.79000954",
         1
        ],
        [
         "2024-06-01",
         "ML0004",
         "2024-06-02T00:00:01Z",
         "3076.36545105",
         1
        ],
        [
         "2024-06-02",
         "ML0001",
         "2024-06-03T00:00:00Z",
         "1228.05231688",
         1
        ],
        [
         "2024-06-02",
         "ML0002",
         "2024-06-03T00:00:00Z",
         "3423.60333775",
         1
        ],
        [
         "2024-06-02",
         "ML0003",
         "2024-06-03T00:00:01Z",
         "4349.10671854",
         1
        ],
        [
         "2024-06-02",
         "ML0004",
         "2024-06-03T00:00:01Z",
         "3119.26141089",
         1
        ],
        [
         "2024-06-03",
         "ML0001",
         "2024-06-04T00:00:00Z",
         "1242.59131286",
         1
        ],
        [
         "2024-06-03",
         "ML0002",
         "2024-06-04T00:00:00Z",
         "3323.45903246",
         1
        ],
        [
         "2024-06-03",
         "ML0003",
         "2024-06-04T00:00:00Z",
         "4600.30128892",
         1
        ],
        [
         "2024-06-03",
         "ML0004",
         "2024-06-04T00:00:01Z",
         "3181.68417814",
         1
        ],
        [
         "2024-06-04",
         "ML0001",
         "2024-06-05T00:00:00Z",
         "1285.20763503",
         1
        ],
        [
         "2024-06-04",
         "ML0002",
         "2024-06-05T00:00:00Z",
         "3288.00173503",
         1
        ],
        [
         "2024-06-04",
         "ML0003",
         "2024-06-05T00:00:01Z",
         "5239.09674398",
         1
        ],
        [
         "2024-06-04",
         "ML0004",
         "2024-06-05T00:00:01Z",
         "3131.5061422",
         1
        ],
        [
         "2024-06-05",
         "ML0001",
         "2024-06-06T00:00:01Z",
         "1295.55815548",
         1
        ],
        [
         "2024-06-05",
         "ML0002",
         "2024-06-06T00:00:00Z",
         "3290.09957745",
         1
        ],
        [
         "2024-06-05",
         "ML0003",
         "2024-06-06T00:00:00Z",
         "5377.85718994",
         1
        ],
        [
         "2024-06-05",
         "ML0004",
         "2024-06-06T00:00:01Z",
         "3088.95774019",
         1
        ],
        [
         "2024-06-06",
         "ML0001",
         "2024-06-07T00:00:14Z",
         "1342.11683891",
         1
        ],
        [
         "2024-06-06",
         "ML0002",
         "2024-06-07T00:00:14Z",
         "3320.77334715",
         1
        ],
        [
         "2024-06-06",
         "ML0003",
         "2024-06-07T00:00:14Z",
         "5233.52138552",
         1
        ],
        [
         "2024-06-06",
         "ML0004",
         "2024-06-07T00:00:14Z",
         "3086.94524176",
         1
        ]
       ],
       "datasetInfos": [],
       "dbfsResultPath": null,
       "isJsonSchema": true,
       "metadata": {},
       "overflow": false,
       "plotOptions": {
        "customPlotOptions": {},
        "displayType": "table",
        "pivotAggregation": null,
        "pivotColumns": null,
        "xColumns": null,
        "yColumns": null
       },
       "removedWidgets": [],
       "schema": [
        {
         "metadata": "{}",
         "name": "date_end",
         "type": "\"date\""
        },
        {
         "metadata": "{}",
         "name": "account",
         "type": "\"string\""
        },
        {
         "metadata": "{}",
         "name": "update_time",
         "type": "\"timestamp\""
        },
        {
         "metadata": "{}",
         "name": "usdt_amount",
         "type": "\"string\""
        },
        {
         "metadata": "{}",
         "name": "row_num",
         "type": "\"integer\""
        }
       ],
       "type": "table"
      }
     },
     "output_type": "display_data"
    }
   ],
   "source": [
    "display(account_records_df)"
   ]
  },
  {
   "cell_type": "markdown",
   "metadata": {
    "application/vnd.databricks.v1+cell": {
     "cellMetadata": {
      "byteLimit": 2048000,
      "rowLimit": 10000
     },
     "inputWidgets": {},
     "nuid": "ccef2da9-f8ac-45c4-8c2f-35739f17fe82",
     "showTitle": false,
     "title": ""
    }
   },
   "source": [
    "#####7. Pivot the table for each account and total equity time series"
   ]
  },
  {
   "cell_type": "code",
   "execution_count": 0,
   "metadata": {
    "application/vnd.databricks.v1+cell": {
     "cellMetadata": {
      "byteLimit": 2048000,
      "rowLimit": 10000
     },
     "inputWidgets": {},
     "nuid": "30f73085-dc69-4b3b-8d1a-7529d0821264",
     "showTitle": false,
     "title": ""
    }
   },
   "outputs": [],
   "source": [
    "from pyspark.sql.functions import sum as spark_sum, col, round\n",
    "from pyspark.sql.types import FloatType"
   ]
  },
  {
   "cell_type": "code",
   "execution_count": 0,
   "metadata": {
    "application/vnd.databricks.v1+cell": {
     "cellMetadata": {
      "byteLimit": 2048000,
      "rowLimit": 10000
     },
     "inputWidgets": {},
     "nuid": "f718830f-4abe-4cfe-ad66-3795f94b6b18",
     "showTitle": false,
     "title": ""
    }
   },
   "outputs": [],
   "source": [
    "# Pivot the data\n",
    "pivot_df = account_records_df.groupBy('date_end').pivot('account').agg(spark_sum('usdt_amount')).fillna(0).orderBy('date_end')"
   ]
  },
  {
   "cell_type": "code",
   "execution_count": 0,
   "metadata": {
    "application/vnd.databricks.v1+cell": {
     "cellMetadata": {
      "byteLimit": 2048000,
      "rowLimit": 10000
     },
     "inputWidgets": {},
     "nuid": "c5354972-b8e1-4977-9ded-1f97f0808a43",
     "showTitle": false,
     "title": ""
    }
   },
   "outputs": [],
   "source": [
    "# Calculate the total daily equity, summing up all USDT amounts\n",
    "total_equity_df = pivot_df.withColumn('USDT_Sum', sum(pivot_df[col] for col in pivot_df.columns if col != 'date_end'))"
   ]
  },
  {
   "cell_type": "code",
   "execution_count": 0,
   "metadata": {
    "application/vnd.databricks.v1+cell": {
     "cellMetadata": {
      "byteLimit": 2048000,
      "rowLimit": 10000
     },
     "inputWidgets": {},
     "nuid": "d1c50380-e1b4-4993-8fa1-32f6b26ce7b2",
     "showTitle": false,
     "title": ""
    }
   },
   "outputs": [
    {
     "output_type": "display_data",
     "data": {
      "text/html": [
       "<style scoped>\n",
       "  .table-result-container {\n",
       "    max-height: 300px;\n",
       "    overflow: auto;\n",
       "  }\n",
       "  table, th, td {\n",
       "    border: 1px solid black;\n",
       "    border-collapse: collapse;\n",
       "  }\n",
       "  th, td {\n",
       "    padding: 5px;\n",
       "  }\n",
       "  th {\n",
       "    text-align: left;\n",
       "  }\n",
       "</style><div class='table-result-container'><table class='table-result'><thead style='background-color: white'><tr><th>date_end</th><th>ML0001</th><th>ML0002</th><th>ML0003</th><th>ML0004</th><th>USDT_Sum</th></tr></thead><tbody><tr><td>2024-05-03</td><td>3999.93716499</td><td>0.0</td><td>0.0</td><td>0.0</td><td>3999.93716499</td></tr><tr><td>2024-05-04</td><td>3971.69011612</td><td>0.0</td><td>0.0</td><td>0.0</td><td>3971.69011612</td></tr><tr><td>2024-05-05</td><td>4009.15950378</td><td>3999.92099743</td><td>100.0</td><td>0.0</td><td>8109.08050121</td></tr><tr><td>2024-05-06</td><td>3898.98112158</td><td>4038.57959257</td><td>4026.148304</td><td>1272.9092</td><td>13236.61821815</td></tr><tr><td>2024-05-07</td><td>3958.14142712</td><td>3896.33282792</td><td>3922.78046537</td><td>1300.1295969</td><td>13077.384317310001</td></tr><tr><td>2024-05-08</td><td>3638.02986578</td><td>4005.91548042</td><td>4022.84405033</td><td>1321.68321383</td><td>12988.472610359999</td></tr><tr><td>2024-05-09</td><td>1500.00005411</td><td>3873.80826381</td><td>4088.94753034</td><td>3136.65086414</td><td>12599.4067124</td></tr><tr><td>2024-05-10</td><td>1414.31595301</td><td>3708.66822244</td><td>4171.77948345</td><td>3033.79865953</td><td>12328.562318429998</td></tr><tr><td>2024-05-11</td><td>1441.77724811</td><td>3617.21361293</td><td>4224.28725026</td><td>3050.80927273</td><td>12334.087384030001</td></tr><tr><td>2024-05-12</td><td>1375.29964204</td><td>3604.23516625</td><td>4247.54533666</td><td>3026.65852965</td><td>12253.7386746</td></tr><tr><td>2024-05-13</td><td>1445.94851747</td><td>3606.91063682</td><td>4223.89245952</td><td>2993.73180401</td><td>12270.48341782</td></tr><tr><td>2024-05-14</td><td>1374.79632033</td><td>3689.84251412</td><td>4003.21789205</td><td>3051.89335177</td><td>12119.75007827</td></tr><tr><td>2024-05-15</td><td>1556.23976121</td><td>3932.09385234</td><td>4151.02904306</td><td>3217.27346786</td><td>12856.636124469998</td></tr><tr><td>2024-05-16</td><td>1598.37407357</td><td>3853.26795998</td><td>4257.89360708</td><td>3255.3435767</td><td>12964.879217329999</td></tr><tr><td>2024-05-17</td><td>1696.30000461</td><td>4071.52067623</td><td>4368.20441473</td><td>3344.5783877</td><td>13480.603483269999</td></tr><tr><td>2024-05-18</td><td>1700.27526793</td><td>4069.06182529</td><td>4363.77674966</td><td>3323.2251597</td><td>13456.33900258</td></tr><tr><td>2024-05-19</td><td>1758.11975926</td><td>3916.69014193</td><td>4306.35032013</td><td>3440.39225179</td><td>13421.552473110001</td></tr><tr><td>2024-05-20</td><td>1609.50395104</td><td>3559.91688689</td><td>4552.71522897</td><td>3166.41997444</td><td>12888.556041339998</td></tr><tr><td>2024-05-21</td><td>1461.93689239</td><td>3489.82174285</td><td>4737.6030642</td><td>3254.18878334</td><td>12943.55048278</td></tr><tr><td>2024-05-22</td><td>1396.77307342</td><td>3394.65599366</td><td>4698.37331799</td><td>3279.20053059</td><td>12769.002915660001</td></tr><tr><td>2024-05-23</td><td>1270.72886351</td><td>3544.76266895</td><td>4305.32979318</td><td>3364.41228443</td><td>12485.23361007</td></tr><tr><td>2024-05-24</td><td>1318.68457202</td><td>3488.24683767</td><td>4309.20407445</td><td>3451.35530515</td><td>12567.49078929</td></tr><tr><td>2024-05-25</td><td>1341.66084823</td><td>3507.07667001</td><td>4328.69146323</td><td>3426.56175697</td><td>12603.99073844</td></tr><tr><td>2024-05-26</td><td>1349.55554818</td><td>3539.18870978</td><td>4340.28486674</td><td>3357.46124053</td><td>12586.49036523</td></tr><tr><td>2024-05-27</td><td>1389.82194857</td><td>3627.22621198</td><td>4370.29806218</td><td>3219.50501639</td><td>12606.85123912</td></tr><tr><td>2024-05-28</td><td>1354.50184303</td><td>3524.7639207</td><td>4343.63014458</td><td>3277.72781991</td><td>12500.62372822</td></tr><tr><td>2024-05-29</td><td>1331.17990996</td><td>3465.141185</td><td>4275.5660339</td><td>3194.75172409</td><td>12266.638852949998</td></tr><tr><td>2024-05-30</td><td>1287.26923896</td><td>3419.02087076</td><td>4267.02299738</td><td>3111.93950525</td><td>12085.25261235</td></tr><tr><td>2024-05-31</td><td>1222.24356802</td><td>3421.48271036</td><td>4250.02858738</td><td>3100.71857903</td><td>11994.473444790001</td></tr><tr><td>2024-06-01</td><td>1208.84160624</td><td>3388.80440983</td><td>4339.79000954</td><td>3076.36545105</td><td>12013.80147666</td></tr><tr><td>2024-06-02</td><td>1228.05231688</td><td>3423.60333775</td><td>4349.10671854</td><td>3119.26141089</td><td>12120.02378406</td></tr><tr><td>2024-06-03</td><td>1242.59131286</td><td>3323.45903246</td><td>4600.30128892</td><td>3181.68417814</td><td>12348.03581238</td></tr><tr><td>2024-06-04</td><td>1285.20763503</td><td>3288.00173503</td><td>5239.09674398</td><td>3131.5061422</td><td>12943.812256239999</td></tr><tr><td>2024-06-05</td><td>1295.55815548</td><td>3290.09957745</td><td>5377.85718994</td><td>3088.95774019</td><td>13052.47266306</td></tr><tr><td>2024-06-06</td><td>1342.11683891</td><td>3320.77334715</td><td>5233.52138552</td><td>3086.94524176</td><td>12983.35681334</td></tr></tbody></table></div>"
      ]
     },
     "metadata": {
      "application/vnd.databricks.v1+output": {
       "addedWidgets": {},
       "aggData": [],
       "aggError": "",
       "aggOverflow": false,
       "aggSchema": [],
       "aggSeriesLimitReached": false,
       "aggType": "",
       "arguments": {},
       "columnCustomDisplayInfos": {},
       "data": [
        [
         "2024-05-03",
         3999.93716499,
         0.0,
         0.0,
         0.0,
         3999.93716499
        ],
        [
         "2024-05-04",
         3971.69011612,
         0.0,
         0.0,
         0.0,
         3971.69011612
        ],
        [
         "2024-05-05",
         4009.15950378,
         3999.92099743,
         100.0,
         0.0,
         8109.08050121
        ],
        [
         "2024-05-06",
         3898.98112158,
         4038.57959257,
         4026.148304,
         1272.9092,
         13236.61821815
        ],
        [
         "2024-05-07",
         3958.14142712,
         3896.33282792,
         3922.78046537,
         1300.1295969,
         13077.384317310001
        ],
        [
         "2024-05-08",
         3638.02986578,
         4005.91548042,
         4022.84405033,
         1321.68321383,
         12988.472610359999
        ],
        [
         "2024-05-09",
         1500.00005411,
         3873.80826381,
         4088.94753034,
         3136.65086414,
         12599.4067124
        ],
        [
         "2024-05-10",
         1414.31595301,
         3708.66822244,
         4171.77948345,
         3033.79865953,
         12328.562318429998
        ],
        [
         "2024-05-11",
         1441.77724811,
         3617.21361293,
         4224.28725026,
         3050.80927273,
         12334.087384030001
        ],
        [
         "2024-05-12",
         1375.29964204,
         3604.23516625,
         4247.54533666,
         3026.65852965,
         12253.7386746
        ],
        [
         "2024-05-13",
         1445.94851747,
         3606.91063682,
         4223.89245952,
         2993.73180401,
         12270.48341782
        ],
        [
         "2024-05-14",
         1374.79632033,
         3689.84251412,
         4003.21789205,
         3051.89335177,
         12119.75007827
        ],
        [
         "2024-05-15",
         1556.23976121,
         3932.09385234,
         4151.02904306,
         3217.27346786,
         12856.636124469998
        ],
        [
         "2024-05-16",
         1598.37407357,
         3853.26795998,
         4257.89360708,
         3255.3435767,
         12964.879217329999
        ],
        [
         "2024-05-17",
         1696.30000461,
         4071.52067623,
         4368.20441473,
         3344.5783877,
         13480.603483269999
        ],
        [
         "2024-05-18",
         1700.27526793,
         4069.06182529,
         4363.77674966,
         3323.2251597,
         13456.33900258
        ],
        [
         "2024-05-19",
         1758.11975926,
         3916.69014193,
         4306.35032013,
         3440.39225179,
         13421.552473110001
        ],
        [
         "2024-05-20",
         1609.50395104,
         3559.91688689,
         4552.71522897,
         3166.41997444,
         12888.556041339998
        ],
        [
         "2024-05-21",
         1461.93689239,
         3489.82174285,
         4737.6030642,
         3254.18878334,
         12943.55048278
        ],
        [
         "2024-05-22",
         1396.77307342,
         3394.65599366,
         4698.37331799,
         3279.20053059,
         12769.002915660001
        ],
        [
         "2024-05-23",
         1270.72886351,
         3544.76266895,
         4305.32979318,
         3364.41228443,
         12485.23361007
        ],
        [
         "2024-05-24",
         1318.68457202,
         3488.24683767,
         4309.20407445,
         3451.35530515,
         12567.49078929
        ],
        [
         "2024-05-25",
         1341.66084823,
         3507.07667001,
         4328.69146323,
         3426.56175697,
         12603.99073844
        ],
        [
         "2024-05-26",
         1349.55554818,
         3539.18870978,
         4340.28486674,
         3357.46124053,
         12586.49036523
        ],
        [
         "2024-05-27",
         1389.82194857,
         3627.22621198,
         4370.29806218,
         3219.50501639,
         12606.85123912
        ],
        [
         "2024-05-28",
         1354.50184303,
         3524.7639207,
         4343.63014458,
         3277.72781991,
         12500.62372822
        ],
        [
         "2024-05-29",
         1331.17990996,
         3465.141185,
         4275.5660339,
         3194.75172409,
         12266.638852949998
        ],
        [
         "2024-05-30",
         1287.26923896,
         3419.02087076,
         4267.02299738,
         3111.93950525,
         12085.25261235
        ],
        [
         "2024-05-31",
         1222.24356802,
         3421.48271036,
         4250.02858738,
         3100.71857903,
         11994.473444790001
        ],
        [
         "2024-06-01",
         1208.84160624,
         3388.80440983,
         4339.79000954,
         3076.36545105,
         12013.80147666
        ],
        [
         "2024-06-02",
         1228.05231688,
         3423.60333775,
         4349.10671854,
         3119.26141089,
         12120.02378406
        ],
        [
         "2024-06-03",
         1242.59131286,
         3323.45903246,
         4600.30128892,
         3181.68417814,
         12348.03581238
        ],
        [
         "2024-06-04",
         1285.20763503,
         3288.00173503,
         5239.09674398,
         3131.5061422,
         12943.812256239999
        ],
        [
         "2024-06-05",
         1295.55815548,
         3290.09957745,
         5377.85718994,
         3088.95774019,
         13052.47266306
        ],
        [
         "2024-06-06",
         1342.11683891,
         3320.77334715,
         5233.52138552,
         3086.94524176,
         12983.35681334
        ]
       ],
       "datasetInfos": [],
       "dbfsResultPath": null,
       "isJsonSchema": true,
       "metadata": {},
       "overflow": false,
       "plotOptions": {
        "customPlotOptions": {},
        "displayType": "table",
        "pivotAggregation": null,
        "pivotColumns": null,
        "xColumns": null,
        "yColumns": null
       },
       "removedWidgets": [],
       "schema": [
        {
         "metadata": "{}",
         "name": "date_end",
         "type": "\"date\""
        },
        {
         "metadata": "{}",
         "name": "ML0001",
         "type": "\"double\""
        },
        {
         "metadata": "{}",
         "name": "ML0002",
         "type": "\"double\""
        },
        {
         "metadata": "{}",
         "name": "ML0003",
         "type": "\"double\""
        },
        {
         "metadata": "{}",
         "name": "ML0004",
         "type": "\"double\""
        },
        {
         "metadata": "{}",
         "name": "USDT_Sum",
         "type": "\"double\""
        }
       ],
       "type": "table"
      }
     },
     "output_type": "display_data"
    }
   ],
   "source": [
    "display(total_equity_df)"
   ]
  },
  {
   "cell_type": "markdown",
   "metadata": {
    "application/vnd.databricks.v1+cell": {
     "cellMetadata": {
      "byteLimit": 2048000,
      "rowLimit": 10000
     },
     "inputWidgets": {},
     "nuid": "cdd39925-d88f-4415-8529-2b9571a13751",
     "showTitle": false,
     "title": ""
    }
   },
   "source": [
    "#####8. [Gold Layer] Create final delta table to view"
   ]
  },
  {
   "cell_type": "code",
   "execution_count": 0,
   "metadata": {
    "application/vnd.databricks.v1+cell": {
     "cellMetadata": {
      "byteLimit": 2048000,
      "rowLimit": 10000
     },
     "inputWidgets": {},
     "nuid": "805e834b-964b-4e32-a949-4912a119a5b5",
     "showTitle": false,
     "title": ""
    }
   },
   "outputs": [],
   "source": [
    "total_equity_df = total_equity_df.withColumn(\"ML0001\", round(col(\"ML0001\").cast(FloatType()), 3))\\\n",
    "                                 .withColumn(\"ML0002\", round(col(\"ML0002\").cast(FloatType()), 3))\\\n",
    "                                 .withColumn(\"ML0003\", round(col(\"ML0003\").cast(FloatType()), 3))\\\n",
    "                                 .withColumn(\"ML0004\", round(col(\"ML0004\").cast(FloatType()), 3))\\\n",
    "                                 .withColumn(\"USDT_Sum\", round(col(\"USDT_Sum\").cast(FloatType()), 3))"
   ]
  },
  {
   "cell_type": "code",
   "execution_count": 0,
   "metadata": {
    "application/vnd.databricks.v1+cell": {
     "cellMetadata": {
      "byteLimit": 2048000,
      "rowLimit": 10000
     },
     "inputWidgets": {},
     "nuid": "c86ff335-d551-447f-9e07-a840f0344cef",
     "showTitle": false,
     "title": ""
    }
   },
   "outputs": [],
   "source": [
    "total_equity_df.write.mode(\"overwrite\").saveAsTable(\"equity_time_series\")"
   ]
  },
  {
   "cell_type": "code",
   "execution_count": 0,
   "metadata": {
    "application/vnd.databricks.v1+cell": {
     "cellMetadata": {
      "byteLimit": 2048000,
      "implicitDf": true,
      "rowLimit": 10000
     },
     "inputWidgets": {},
     "nuid": "b07d6193-8f06-4377-b5ea-61c63f66c860",
     "showTitle": false,
     "title": ""
    }
   },
   "outputs": [],
   "source": [
    "# %sql\n",
    "# DESCRIBE EXTENDED equity_time_series"
   ]
  },
  {
   "cell_type": "markdown",
   "metadata": {
    "application/vnd.databricks.v1+cell": {
     "cellMetadata": {
      "byteLimit": 2048000,
      "rowLimit": 10000
     },
     "inputWidgets": {},
     "nuid": "0a472b69-ee20-472d-b90c-216458f1de9f",
     "showTitle": false,
     "title": ""
    }
   },
   "source": [
    "#####9. [visualization] Equity Curve Time Series"
   ]
  },
  {
   "cell_type": "code",
   "execution_count": 0,
   "metadata": {
    "application/vnd.databricks.v1+cell": {
     "cellMetadata": {
      "byteLimit": 2048000,
      "implicitDf": true,
      "rowLimit": 10000
     },
     "inputWidgets": {},
     "nuid": "26771fcc-1d71-4dcc-94ad-78b42b2ac2e1",
     "showTitle": false,
     "title": ""
    }
   },
   "outputs": [
    {
     "output_type": "display_data",
     "data": {
      "text/html": [
       "<style scoped>\n",
       "  .table-result-container {\n",
       "    max-height: 300px;\n",
       "    overflow: auto;\n",
       "  }\n",
       "  table, th, td {\n",
       "    border: 1px solid black;\n",
       "    border-collapse: collapse;\n",
       "  }\n",
       "  th, td {\n",
       "    padding: 5px;\n",
       "  }\n",
       "  th {\n",
       "    text-align: left;\n",
       "  }\n",
       "</style><div class='table-result-container'><table class='table-result'><thead style='background-color: white'><tr><th>date_end</th><th>ML0001</th><th>ML0002</th><th>ML0003</th><th>ML0004</th><th>USDT_Sum</th></tr></thead><tbody><tr><td>2024-05-09</td><td>1500.0</td><td>3873.808</td><td>4088.948</td><td>3136.651</td><td>12599.406</td></tr><tr><td>2024-05-10</td><td>1414.316</td><td>3708.668</td><td>4171.779</td><td>3033.799</td><td>12328.563</td></tr><tr><td>2024-05-11</td><td>1441.777</td><td>3617.214</td><td>4224.287</td><td>3050.809</td><td>12334.087</td></tr><tr><td>2024-05-12</td><td>1375.3</td><td>3604.235</td><td>4247.545</td><td>3026.658</td><td>12253.738</td></tr><tr><td>2024-05-13</td><td>1445.948</td><td>3606.911</td><td>4223.893</td><td>2993.732</td><td>12270.483</td></tr><tr><td>2024-05-14</td><td>1374.796</td><td>3689.843</td><td>4003.218</td><td>3051.893</td><td>12119.75</td></tr><tr><td>2024-05-15</td><td>1556.24</td><td>3932.094</td><td>4151.029</td><td>3217.273</td><td>12856.636</td></tr><tr><td>2024-05-16</td><td>1598.374</td><td>3853.268</td><td>4257.894</td><td>3255.344</td><td>12964.879</td></tr><tr><td>2024-05-17</td><td>1696.3</td><td>4071.521</td><td>4368.205</td><td>3344.578</td><td>13480.604</td></tr><tr><td>2024-05-18</td><td>1700.275</td><td>4069.062</td><td>4363.777</td><td>3323.225</td><td>13456.339</td></tr><tr><td>2024-05-19</td><td>1758.12</td><td>3916.69</td><td>4306.35</td><td>3440.392</td><td>13421.553</td></tr><tr><td>2024-05-20</td><td>1609.504</td><td>3559.917</td><td>4552.715</td><td>3166.42</td><td>12888.556</td></tr><tr><td>2024-05-21</td><td>1461.937</td><td>3489.822</td><td>4737.603</td><td>3254.189</td><td>12943.551</td></tr><tr><td>2024-05-22</td><td>1396.773</td><td>3394.656</td><td>4698.374</td><td>3279.2</td><td>12769.003</td></tr><tr><td>2024-05-23</td><td>1270.729</td><td>3544.763</td><td>4305.33</td><td>3364.412</td><td>12485.233</td></tr><tr><td>2024-05-24</td><td>1318.685</td><td>3488.247</td><td>4309.204</td><td>3451.355</td><td>12567.491</td></tr><tr><td>2024-05-25</td><td>1341.661</td><td>3507.077</td><td>4328.691</td><td>3426.562</td><td>12603.991</td></tr><tr><td>2024-05-26</td><td>1349.556</td><td>3539.189</td><td>4340.285</td><td>3357.461</td><td>12586.49</td></tr><tr><td>2024-05-27</td><td>1389.822</td><td>3627.226</td><td>4370.298</td><td>3219.505</td><td>12606.852</td></tr><tr><td>2024-05-28</td><td>1354.502</td><td>3524.764</td><td>4343.63</td><td>3277.728</td><td>12500.624</td></tr><tr><td>2024-05-29</td><td>1331.18</td><td>3465.141</td><td>4275.566</td><td>3194.752</td><td>12266.639</td></tr><tr><td>2024-05-30</td><td>1287.269</td><td>3419.021</td><td>4267.023</td><td>3111.939</td><td>12085.253</td></tr><tr><td>2024-05-31</td><td>1222.244</td><td>3421.483</td><td>4250.029</td><td>3100.719</td><td>11994.474</td></tr><tr><td>2024-06-01</td><td>1208.842</td><td>3388.804</td><td>4339.79</td><td>3076.365</td><td>12013.802</td></tr><tr><td>2024-06-02</td><td>1228.052</td><td>3423.603</td><td>4349.107</td><td>3119.261</td><td>12120.023</td></tr><tr><td>2024-06-03</td><td>1242.591</td><td>3323.459</td><td>4600.301</td><td>3181.684</td><td>12348.036</td></tr><tr><td>2024-06-04</td><td>1285.208</td><td>3288.002</td><td>5239.097</td><td>3131.506</td><td>12943.813</td></tr><tr><td>2024-06-05</td><td>1295.558</td><td>3290.1</td><td>5377.857</td><td>3088.958</td><td>13052.473</td></tr><tr><td>2024-06-06</td><td>1342.117</td><td>3320.773</td><td>5233.521</td><td>3086.945</td><td>12983.356</td></tr></tbody></table></div>"
      ]
     },
     "metadata": {
      "application/vnd.databricks.v1+output": {
       "addedWidgets": {},
       "aggData": [],
       "aggError": "",
       "aggOverflow": false,
       "aggSchema": [],
       "aggSeriesLimitReached": false,
       "aggType": "",
       "arguments": {},
       "columnCustomDisplayInfos": {},
       "data": [
        [
         "2024-05-09",
         1500.0,
         3873.808,
         4088.948,
         3136.651,
         12599.406
        ],
        [
         "2024-05-10",
         1414.316,
         3708.668,
         4171.779,
         3033.799,
         12328.563
        ],
        [
         "2024-05-11",
         1441.777,
         3617.214,
         4224.287,
         3050.809,
         12334.087
        ],
        [
         "2024-05-12",
         1375.3,
         3604.235,
         4247.545,
         3026.658,
         12253.738
        ],
        [
         "2024-05-13",
         1445.948,
         3606.911,
         4223.893,
         2993.732,
         12270.483
        ],
        [
         "2024-05-14",
         1374.796,
         3689.843,
         4003.218,
         3051.893,
         12119.75
        ],
        [
         "2024-05-15",
         1556.24,
         3932.094,
         4151.029,
         3217.273,
         12856.636
        ],
        [
         "2024-05-16",
         1598.374,
         3853.268,
         4257.894,
         3255.344,
         12964.879
        ],
        [
         "2024-05-17",
         1696.3,
         4071.521,
         4368.205,
         3344.578,
         13480.604
        ],
        [
         "2024-05-18",
         1700.275,
         4069.062,
         4363.777,
         3323.225,
         13456.339
        ],
        [
         "2024-05-19",
         1758.12,
         3916.69,
         4306.35,
         3440.392,
         13421.553
        ],
        [
         "2024-05-20",
         1609.504,
         3559.917,
         4552.715,
         3166.42,
         12888.556
        ],
        [
         "2024-05-21",
         1461.937,
         3489.822,
         4737.603,
         3254.189,
         12943.551
        ],
        [
         "2024-05-22",
         1396.773,
         3394.656,
         4698.374,
         3279.2,
         12769.003
        ],
        [
         "2024-05-23",
         1270.729,
         3544.763,
         4305.33,
         3364.412,
         12485.233
        ],
        [
         "2024-05-24",
         1318.685,
         3488.247,
         4309.204,
         3451.355,
         12567.491
        ],
        [
         "2024-05-25",
         1341.661,
         3507.077,
         4328.691,
         3426.562,
         12603.991
        ],
        [
         "2024-05-26",
         1349.556,
         3539.189,
         4340.285,
         3357.461,
         12586.49
        ],
        [
         "2024-05-27",
         1389.822,
         3627.226,
         4370.298,
         3219.505,
         12606.852
        ],
        [
         "2024-05-28",
         1354.502,
         3524.764,
         4343.63,
         3277.728,
         12500.624
        ],
        [
         "2024-05-29",
         1331.18,
         3465.141,
         4275.566,
         3194.752,
         12266.639
        ],
        [
         "2024-05-30",
         1287.269,
         3419.021,
         4267.023,
         3111.939,
         12085.253
        ],
        [
         "2024-05-31",
         1222.244,
         3421.483,
         4250.029,
         3100.719,
         11994.474
        ],
        [
         "2024-06-01",
         1208.842,
         3388.804,
         4339.79,
         3076.365,
         12013.802
        ],
        [
         "2024-06-02",
         1228.052,
         3423.603,
         4349.107,
         3119.261,
         12120.023
        ],
        [
         "2024-06-03",
         1242.591,
         3323.459,
         4600.301,
         3181.684,
         12348.036
        ],
        [
         "2024-06-04",
         1285.208,
         3288.002,
         5239.097,
         3131.506,
         12943.813
        ],
        [
         "2024-06-05",
         1295.558,
         3290.1,
         5377.857,
         3088.958,
         13052.473
        ],
        [
         "2024-06-06",
         1342.117,
         3320.773,
         5233.521,
         3086.945,
         12983.356
        ]
       ],
       "datasetInfos": [],
       "dbfsResultPath": null,
       "isJsonSchema": true,
       "metadata": {
        "dataframeName": "_sqldf",
        "executionCount": 36
       },
       "overflow": false,
       "plotOptions": {
        "customPlotOptions": {},
        "displayType": "table",
        "pivotAggregation": null,
        "pivotColumns": null,
        "xColumns": null,
        "yColumns": null
       },
       "removedWidgets": [],
       "schema": [
        {
         "metadata": "{}",
         "name": "date_end",
         "type": "\"date\""
        },
        {
         "metadata": "{}",
         "name": "ML0001",
         "type": "\"float\""
        },
        {
         "metadata": "{}",
         "name": "ML0002",
         "type": "\"float\""
        },
        {
         "metadata": "{}",
         "name": "ML0003",
         "type": "\"float\""
        },
        {
         "metadata": "{}",
         "name": "ML0004",
         "type": "\"float\""
        },
        {
         "metadata": "{}",
         "name": "USDT_Sum",
         "type": "\"float\""
        }
       ],
       "type": "table"
      }
     },
     "output_type": "display_data"
    },
    {
     "output_type": "display_data",
     "data": {
      "text/plain": [
       "Databricks visualization. Run in Databricks to view."
      ]
     },
     "metadata": {
      "application/vnd.databricks.v1.subcommand+json": {
       "baseErrorDetails": null,
       "bindings": {},
       "collapsed": false,
       "command": "%sql WITH q AS (SELECT *\nFROM equity_time_series\nWHERE date_end >= '2024-05-09') SELECT `date_end`,SUM(`ML0001`) `column_2d6c725d31`,SUM(`ML0002`) `column_2d6c725d34`,SUM(`ML0003`) `column_2d6c725d37`,SUM(`ML0004`) `column_2d6c725d40`,SUM(`USDT_Sum`) `column_2d6c725d43` FROM q GROUP BY `date_end`",
       "commandTitle": "Equity Curve",
       "commandType": "auto",
       "commandVersion": 0,
       "commentThread": [],
       "commentsVisible": false,
       "contentSha256Hex": null,
       "customPlotOptions": {
        "redashChart": [
         {
          "key": "type",
          "value": "CHART"
         },
         {
          "key": "options",
          "value": {
           "alignYAxesAtZero": true,
           "coefficient": 1,
           "columnConfigurationMap": {
            "x": {
             "column": "date_end",
             "id": "column_cc5cf82111"
            },
            "y": [
             {
              "column": "ML0001",
              "id": "column_2d6c725d31",
              "transform": "SUM"
             },
             {
              "column": "ML0002",
              "id": "column_2d6c725d34",
              "transform": "SUM"
             },
             {
              "column": "ML0003",
              "id": "column_2d6c725d37",
              "transform": "SUM"
             },
             {
              "column": "ML0004",
              "id": "column_2d6c725d40",
              "transform": "SUM"
             },
             {
              "column": "USDT_Sum",
              "id": "column_2d6c725d43",
              "transform": "SUM"
             }
            ]
           },
           "dateTimeFormat": "DD/MM/YYYY HH:mm",
           "direction": {
            "type": "counterclockwise"
           },
           "error_y": {
            "type": "data",
            "visible": true
           },
           "globalSeriesType": "line",
           "isAggregationOn": true,
           "legend": {
            "enabled": true,
            "placement": "below",
            "traceorder": "normal"
           },
           "missingValuesAsZero": true,
           "numberFormat": "0,0.[00000]",
           "percentFormat": "0[.]00%",
           "series": {
            "error_y": {
             "type": "data",
             "visible": true
            },
            "stacking": null
           },
           "seriesOptions": {
            "column_2d6c725d31": {
             "type": "line",
             "yAxis": 0
            },
            "column_2d6c725d34": {
             "type": "line",
             "yAxis": 0
            },
            "column_2d6c725d37": {
             "type": "line",
             "yAxis": 0
            },
            "column_2d6c725d40": {
             "type": "line",
             "yAxis": 0
            },
            "column_2d6c725d43": {
             "type": "line",
             "yAxis": 0
            }
           },
           "showDataLabels": false,
           "sizemode": "diameter",
           "sortX": true,
           "sortY": true,
           "swappedAxes": false,
           "textFormat": "",
           "useAggregationsUi": true,
           "valuesOptions": {},
           "version": 2,
           "xAxis": {
            "labels": {
             "enabled": true
            },
            "title": {
             "text": "UTC Date End time"
            },
            "type": "-"
           },
           "yAxis": [
            {
             "title": {
              "text": "USDT"
             },
             "type": "linear"
            },
            {
             "opposite": true,
             "type": "-"
            }
           ]
          }
         }
        ]
       },
       "datasetPreviewNameToCmdIdMap": {},
       "diffDeletes": [],
       "diffInserts": [],
       "displayType": "redashChart",
       "error": null,
       "errorDetails": null,
       "errorSummary": null,
       "errorTraceType": null,
       "finishTime": 0,
       "globalVars": {},
       "guid": "",
       "height": "441",
       "hideCommandCode": false,
       "hideCommandResult": false,
       "iPythonMetadata": null,
       "inputWidgets": {},
       "isLockedInExamMode": false,
       "latestUser": "a user",
       "latestUserId": null,
       "listResultMetadata": null,
       "metadata": {
        "byteLimit": 2048000,
        "implicitDf": true,
        "rowLimit": 10000
       },
       "nuid": "6e60de60-e646-4884-acb7-c89fe1b5b60e",
       "origId": 0,
       "parentHierarchy": [],
       "pivotAggregation": null,
       "pivotColumns": null,
       "position": 22.9208984375,
       "resultDbfsErrorMessage": null,
       "resultDbfsStatus": "INLINED_IN_TREE",
       "results": null,
       "showCommandTitle": false,
       "startTime": 0,
       "state": "input",
       "streamStates": {},
       "subcommandOptions": {
        "queryPlan": {
         "groups": [
          {
           "column": "date_end",
           "type": "column"
          }
         ],
         "selects": [
          {
           "column": "date_end",
           "type": "column"
          },
          {
           "alias": "column_2d6c725d31",
           "args": [
            {
             "column": "ML0001",
             "type": "column"
            }
           ],
           "function": "SUM",
           "type": "function"
          },
          {
           "alias": "column_2d6c725d34",
           "args": [
            {
             "column": "ML0002",
             "type": "column"
            }
           ],
           "function": "SUM",
           "type": "function"
          },
          {
           "alias": "column_2d6c725d37",
           "args": [
            {
             "column": "ML0003",
             "type": "column"
            }
           ],
           "function": "SUM",
           "type": "function"
          },
          {
           "alias": "column_2d6c725d40",
           "args": [
            {
             "column": "ML0004",
             "type": "column"
            }
           ],
           "function": "SUM",
           "type": "function"
          },
          {
           "alias": "column_2d6c725d43",
           "args": [
            {
             "column": "USDT_Sum",
             "type": "column"
            }
           ],
           "function": "SUM",
           "type": "function"
          }
         ]
        }
       },
       "submitTime": 0,
       "subtype": "tableResultSubCmd.visualization",
       "tableResultIndex": 0,
       "useConsistentColors": false,
       "version": "CommandV1",
       "width": "650",
       "workflows": [],
       "xColumns": null,
       "yColumns": null
      }
     },
     "output_type": "display_data"
    }
   ],
   "source": [
    "%sql\n",
    "SELECT *\n",
    "FROM equity_time_series\n",
    "WHERE date_end >= '2024-05-09'"
   ]
  },
  {
   "cell_type": "markdown",
   "metadata": {
    "application/vnd.databricks.v1+cell": {
     "cellMetadata": {
      "byteLimit": 2048000,
      "rowLimit": 10000
     },
     "inputWidgets": {},
     "nuid": "7fbc2f7a-f460-44c9-bcfa-d5ec9d51fde6",
     "showTitle": false,
     "title": ""
    }
   },
   "source": [
    "&copy; 2021-2023 ScholarNest Technologies Pvt. Ltd. All rights reserved.<br/>\n",
    "Apache, Apache Spark, Spark and the Spark logo are trademarks of the <a href=\"https://www.apache.org/\">Apache Software Foundation</a>.<br/>\n",
    "Databricks, Databricks Cloud and the Databricks logo are trademarks of the <a href=\"https://www.databricks.com/\">Databricks Inc</a>.<br/>\n",
    "<br/>\n",
    "<a href=\"https://www.scholarnest.com/privacy/\">Privacy Policy</a> | \n",
    "<a href=\"https://www.scholarnest.com/terms/\">Terms of Use</a> | <a href=\"https://www.scholarnest.com/contact/\">Contact Us</a>"
   ]
  }
 ],
 "metadata": {
  "application/vnd.databricks.v1+notebook": {
   "dashboards": [],
   "environmentMetadata": null,
   "language": "python",
   "notebookMetadata": {
    "mostRecentlyExecutedCommandWithImplicitDF": {
     "commandId": 3179192346218555,
     "dataframes": [
      "_sqldf"
     ]
    },
    "pythonIndentUnit": 4
   },
   "notebookName": "demo_equitytracking_notebook",
   "widgets": {}
  }
 },
 "nbformat": 4,
 "nbformat_minor": 0
}
